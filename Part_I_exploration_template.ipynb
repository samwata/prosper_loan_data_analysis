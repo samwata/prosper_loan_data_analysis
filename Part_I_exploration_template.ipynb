{
 "cells": [
  {
   "cell_type": "markdown",
   "metadata": {},
   "source": [
    "# Part I - Propser Loan Data\n",
    "## by (Samson Amwata)\n",
    "\n",
    "## Introduction\n",
    "This dataset contains loan information of about 113,937 rows with 81 variables on each\n",
    "loan, including loan amount, borrower rate (or interest rate), current loan status, borrower income, and many others.\n",
    "\n",
    "I am looking forward to investigate the following questions\n",
    "- What factors affect a loan’s outcome status?\n",
    "- What affects the borrower’s APR or interest rate?\n",
    "- Are there differences between loans depending on how large the original loan amount was?\n",
    "\n",
    "\n",
    "\n",
    "## Preliminary Wrangling\n"
   ]
  },
  {
   "cell_type": "code",
   "execution_count": 1,
   "metadata": {},
   "outputs": [],
   "source": [
    "# import all packages and set plots to be embedded inline\n",
    "import numpy as np\n",
    "import pandas as pd\n",
    "import matplotlib.pyplot as plt\n",
    "import seaborn as sns\n",
    "\n",
    "%matplotlib inline"
   ]
  },
  {
   "cell_type": "code",
   "execution_count": 2,
   "metadata": {},
   "outputs": [
    {
     "data": {
      "text/html": [
       "<div>\n",
       "<style scoped>\n",
       "    .dataframe tbody tr th:only-of-type {\n",
       "        vertical-align: middle;\n",
       "    }\n",
       "\n",
       "    .dataframe tbody tr th {\n",
       "        vertical-align: top;\n",
       "    }\n",
       "\n",
       "    .dataframe thead th {\n",
       "        text-align: right;\n",
       "    }\n",
       "</style>\n",
       "<table border=\"1\" class=\"dataframe\">\n",
       "  <thead>\n",
       "    <tr style=\"text-align: right;\">\n",
       "      <th></th>\n",
       "      <th>ListingKey</th>\n",
       "      <th>ListingNumber</th>\n",
       "      <th>ListingCreationDate</th>\n",
       "      <th>CreditGrade</th>\n",
       "      <th>Term</th>\n",
       "      <th>LoanStatus</th>\n",
       "      <th>ClosedDate</th>\n",
       "      <th>BorrowerAPR</th>\n",
       "      <th>BorrowerRate</th>\n",
       "      <th>LenderYield</th>\n",
       "      <th>...</th>\n",
       "      <th>LP_ServiceFees</th>\n",
       "      <th>LP_CollectionFees</th>\n",
       "      <th>LP_GrossPrincipalLoss</th>\n",
       "      <th>LP_NetPrincipalLoss</th>\n",
       "      <th>LP_NonPrincipalRecoverypayments</th>\n",
       "      <th>PercentFunded</th>\n",
       "      <th>Recommendations</th>\n",
       "      <th>InvestmentFromFriendsCount</th>\n",
       "      <th>InvestmentFromFriendsAmount</th>\n",
       "      <th>Investors</th>\n",
       "    </tr>\n",
       "  </thead>\n",
       "  <tbody>\n",
       "    <tr>\n",
       "      <th>0</th>\n",
       "      <td>1021339766868145413AB3B</td>\n",
       "      <td>193129</td>\n",
       "      <td>2007-08-26 19:09:29.263000000</td>\n",
       "      <td>C</td>\n",
       "      <td>36</td>\n",
       "      <td>Completed</td>\n",
       "      <td>2009-08-14 00:00:00</td>\n",
       "      <td>0.16516</td>\n",
       "      <td>0.1580</td>\n",
       "      <td>0.1380</td>\n",
       "      <td>...</td>\n",
       "      <td>-133.18</td>\n",
       "      <td>0.0</td>\n",
       "      <td>0.0</td>\n",
       "      <td>0.0</td>\n",
       "      <td>0.0</td>\n",
       "      <td>1.0</td>\n",
       "      <td>0</td>\n",
       "      <td>0</td>\n",
       "      <td>0.0</td>\n",
       "      <td>258</td>\n",
       "    </tr>\n",
       "    <tr>\n",
       "      <th>1</th>\n",
       "      <td>10273602499503308B223C1</td>\n",
       "      <td>1209647</td>\n",
       "      <td>2014-02-27 08:28:07.900000000</td>\n",
       "      <td>NaN</td>\n",
       "      <td>36</td>\n",
       "      <td>Current</td>\n",
       "      <td>NaN</td>\n",
       "      <td>0.12016</td>\n",
       "      <td>0.0920</td>\n",
       "      <td>0.0820</td>\n",
       "      <td>...</td>\n",
       "      <td>0.00</td>\n",
       "      <td>0.0</td>\n",
       "      <td>0.0</td>\n",
       "      <td>0.0</td>\n",
       "      <td>0.0</td>\n",
       "      <td>1.0</td>\n",
       "      <td>0</td>\n",
       "      <td>0</td>\n",
       "      <td>0.0</td>\n",
       "      <td>1</td>\n",
       "    </tr>\n",
       "    <tr>\n",
       "      <th>2</th>\n",
       "      <td>0EE9337825851032864889A</td>\n",
       "      <td>81716</td>\n",
       "      <td>2007-01-05 15:00:47.090000000</td>\n",
       "      <td>HR</td>\n",
       "      <td>36</td>\n",
       "      <td>Completed</td>\n",
       "      <td>2009-12-17 00:00:00</td>\n",
       "      <td>0.28269</td>\n",
       "      <td>0.2750</td>\n",
       "      <td>0.2400</td>\n",
       "      <td>...</td>\n",
       "      <td>-24.20</td>\n",
       "      <td>0.0</td>\n",
       "      <td>0.0</td>\n",
       "      <td>0.0</td>\n",
       "      <td>0.0</td>\n",
       "      <td>1.0</td>\n",
       "      <td>0</td>\n",
       "      <td>0</td>\n",
       "      <td>0.0</td>\n",
       "      <td>41</td>\n",
       "    </tr>\n",
       "    <tr>\n",
       "      <th>3</th>\n",
       "      <td>0EF5356002482715299901A</td>\n",
       "      <td>658116</td>\n",
       "      <td>2012-10-22 11:02:35.010000000</td>\n",
       "      <td>NaN</td>\n",
       "      <td>36</td>\n",
       "      <td>Current</td>\n",
       "      <td>NaN</td>\n",
       "      <td>0.12528</td>\n",
       "      <td>0.0974</td>\n",
       "      <td>0.0874</td>\n",
       "      <td>...</td>\n",
       "      <td>-108.01</td>\n",
       "      <td>0.0</td>\n",
       "      <td>0.0</td>\n",
       "      <td>0.0</td>\n",
       "      <td>0.0</td>\n",
       "      <td>1.0</td>\n",
       "      <td>0</td>\n",
       "      <td>0</td>\n",
       "      <td>0.0</td>\n",
       "      <td>158</td>\n",
       "    </tr>\n",
       "    <tr>\n",
       "      <th>4</th>\n",
       "      <td>0F023589499656230C5E3E2</td>\n",
       "      <td>909464</td>\n",
       "      <td>2013-09-14 18:38:39.097000000</td>\n",
       "      <td>NaN</td>\n",
       "      <td>36</td>\n",
       "      <td>Current</td>\n",
       "      <td>NaN</td>\n",
       "      <td>0.24614</td>\n",
       "      <td>0.2085</td>\n",
       "      <td>0.1985</td>\n",
       "      <td>...</td>\n",
       "      <td>-60.27</td>\n",
       "      <td>0.0</td>\n",
       "      <td>0.0</td>\n",
       "      <td>0.0</td>\n",
       "      <td>0.0</td>\n",
       "      <td>1.0</td>\n",
       "      <td>0</td>\n",
       "      <td>0</td>\n",
       "      <td>0.0</td>\n",
       "      <td>20</td>\n",
       "    </tr>\n",
       "  </tbody>\n",
       "</table>\n",
       "<p>5 rows × 81 columns</p>\n",
       "</div>"
      ],
      "text/plain": [
       "                ListingKey  ListingNumber            ListingCreationDate  \\\n",
       "0  1021339766868145413AB3B         193129  2007-08-26 19:09:29.263000000   \n",
       "1  10273602499503308B223C1        1209647  2014-02-27 08:28:07.900000000   \n",
       "2  0EE9337825851032864889A          81716  2007-01-05 15:00:47.090000000   \n",
       "3  0EF5356002482715299901A         658116  2012-10-22 11:02:35.010000000   \n",
       "4  0F023589499656230C5E3E2         909464  2013-09-14 18:38:39.097000000   \n",
       "\n",
       "  CreditGrade  Term LoanStatus           ClosedDate  BorrowerAPR  \\\n",
       "0           C    36  Completed  2009-08-14 00:00:00      0.16516   \n",
       "1         NaN    36    Current                  NaN      0.12016   \n",
       "2          HR    36  Completed  2009-12-17 00:00:00      0.28269   \n",
       "3         NaN    36    Current                  NaN      0.12528   \n",
       "4         NaN    36    Current                  NaN      0.24614   \n",
       "\n",
       "   BorrowerRate  LenderYield  ...  LP_ServiceFees  LP_CollectionFees  \\\n",
       "0        0.1580       0.1380  ...         -133.18                0.0   \n",
       "1        0.0920       0.0820  ...            0.00                0.0   \n",
       "2        0.2750       0.2400  ...          -24.20                0.0   \n",
       "3        0.0974       0.0874  ...         -108.01                0.0   \n",
       "4        0.2085       0.1985  ...          -60.27                0.0   \n",
       "\n",
       "   LP_GrossPrincipalLoss  LP_NetPrincipalLoss LP_NonPrincipalRecoverypayments  \\\n",
       "0                    0.0                  0.0                             0.0   \n",
       "1                    0.0                  0.0                             0.0   \n",
       "2                    0.0                  0.0                             0.0   \n",
       "3                    0.0                  0.0                             0.0   \n",
       "4                    0.0                  0.0                             0.0   \n",
       "\n",
       "   PercentFunded  Recommendations InvestmentFromFriendsCount  \\\n",
       "0            1.0                0                          0   \n",
       "1            1.0                0                          0   \n",
       "2            1.0                0                          0   \n",
       "3            1.0                0                          0   \n",
       "4            1.0                0                          0   \n",
       "\n",
       "  InvestmentFromFriendsAmount Investors  \n",
       "0                         0.0       258  \n",
       "1                         0.0         1  \n",
       "2                         0.0        41  \n",
       "3                         0.0       158  \n",
       "4                         0.0        20  \n",
       "\n",
       "[5 rows x 81 columns]"
      ]
     },
     "execution_count": 2,
     "metadata": {},
     "output_type": "execute_result"
    }
   ],
   "source": [
    "#Load dataset\n",
    "df = pd.read_csv(\"prosperLoanData.csv\")\n",
    "df.head()"
   ]
  },
  {
   "cell_type": "code",
   "execution_count": 3,
   "metadata": {},
   "outputs": [
    {
     "data": {
      "text/plain": [
       "(113937, 81)"
      ]
     },
     "execution_count": 3,
     "metadata": {},
     "output_type": "execute_result"
    }
   ],
   "source": [
    "df.shape"
   ]
  },
  {
   "cell_type": "code",
   "execution_count": 4,
   "metadata": {},
   "outputs": [
    {
     "name": "stdout",
     "output_type": "stream",
     "text": [
      "<class 'pandas.core.frame.DataFrame'>\n",
      "RangeIndex: 113937 entries, 0 to 113936\n",
      "Data columns (total 81 columns):\n",
      " #   Column                               Non-Null Count   Dtype  \n",
      "---  ------                               --------------   -----  \n",
      " 0   ListingKey                           113937 non-null  object \n",
      " 1   ListingNumber                        113937 non-null  int64  \n",
      " 2   ListingCreationDate                  113937 non-null  object \n",
      " 3   CreditGrade                          28953 non-null   object \n",
      " 4   Term                                 113937 non-null  int64  \n",
      " 5   LoanStatus                           113937 non-null  object \n",
      " 6   ClosedDate                           55089 non-null   object \n",
      " 7   BorrowerAPR                          113912 non-null  float64\n",
      " 8   BorrowerRate                         113937 non-null  float64\n",
      " 9   LenderYield                          113937 non-null  float64\n",
      " 10  EstimatedEffectiveYield              84853 non-null   float64\n",
      " 11  EstimatedLoss                        84853 non-null   float64\n",
      " 12  EstimatedReturn                      84853 non-null   float64\n",
      " 13  ProsperRating (numeric)              84853 non-null   float64\n",
      " 14  ProsperRating (Alpha)                84853 non-null   object \n",
      " 15  ProsperScore                         84853 non-null   float64\n",
      " 16  ListingCategory (numeric)            113937 non-null  int64  \n",
      " 17  BorrowerState                        108422 non-null  object \n",
      " 18  Occupation                           110349 non-null  object \n",
      " 19  EmploymentStatus                     111682 non-null  object \n",
      " 20  EmploymentStatusDuration             106312 non-null  float64\n",
      " 21  IsBorrowerHomeowner                  113937 non-null  bool   \n",
      " 22  CurrentlyInGroup                     113937 non-null  bool   \n",
      " 23  GroupKey                             13341 non-null   object \n",
      " 24  DateCreditPulled                     113937 non-null  object \n",
      " 25  CreditScoreRangeLower                113346 non-null  float64\n",
      " 26  CreditScoreRangeUpper                113346 non-null  float64\n",
      " 27  FirstRecordedCreditLine              113240 non-null  object \n",
      " 28  CurrentCreditLines                   106333 non-null  float64\n",
      " 29  OpenCreditLines                      106333 non-null  float64\n",
      " 30  TotalCreditLinespast7years           113240 non-null  float64\n",
      " 31  OpenRevolvingAccounts                113937 non-null  int64  \n",
      " 32  OpenRevolvingMonthlyPayment          113937 non-null  float64\n",
      " 33  InquiriesLast6Months                 113240 non-null  float64\n",
      " 34  TotalInquiries                       112778 non-null  float64\n",
      " 35  CurrentDelinquencies                 113240 non-null  float64\n",
      " 36  AmountDelinquent                     106315 non-null  float64\n",
      " 37  DelinquenciesLast7Years              112947 non-null  float64\n",
      " 38  PublicRecordsLast10Years             113240 non-null  float64\n",
      " 39  PublicRecordsLast12Months            106333 non-null  float64\n",
      " 40  RevolvingCreditBalance               106333 non-null  float64\n",
      " 41  BankcardUtilization                  106333 non-null  float64\n",
      " 42  AvailableBankcardCredit              106393 non-null  float64\n",
      " 43  TotalTrades                          106393 non-null  float64\n",
      " 44  TradesNeverDelinquent (percentage)   106393 non-null  float64\n",
      " 45  TradesOpenedLast6Months              106393 non-null  float64\n",
      " 46  DebtToIncomeRatio                    105383 non-null  float64\n",
      " 47  IncomeRange                          113937 non-null  object \n",
      " 48  IncomeVerifiable                     113937 non-null  bool   \n",
      " 49  StatedMonthlyIncome                  113937 non-null  float64\n",
      " 50  LoanKey                              113937 non-null  object \n",
      " 51  TotalProsperLoans                    22085 non-null   float64\n",
      " 52  TotalProsperPaymentsBilled           22085 non-null   float64\n",
      " 53  OnTimeProsperPayments                22085 non-null   float64\n",
      " 54  ProsperPaymentsLessThanOneMonthLate  22085 non-null   float64\n",
      " 55  ProsperPaymentsOneMonthPlusLate      22085 non-null   float64\n",
      " 56  ProsperPrincipalBorrowed             22085 non-null   float64\n",
      " 57  ProsperPrincipalOutstanding          22085 non-null   float64\n",
      " 58  ScorexChangeAtTimeOfListing          18928 non-null   float64\n",
      " 59  LoanCurrentDaysDelinquent            113937 non-null  int64  \n",
      " 60  LoanFirstDefaultedCycleNumber        16952 non-null   float64\n",
      " 61  LoanMonthsSinceOrigination           113937 non-null  int64  \n",
      " 62  LoanNumber                           113937 non-null  int64  \n",
      " 63  LoanOriginalAmount                   113937 non-null  int64  \n",
      " 64  LoanOriginationDate                  113937 non-null  object \n",
      " 65  LoanOriginationQuarter               113937 non-null  object \n",
      " 66  MemberKey                            113937 non-null  object \n",
      " 67  MonthlyLoanPayment                   113937 non-null  float64\n",
      " 68  LP_CustomerPayments                  113937 non-null  float64\n",
      " 69  LP_CustomerPrincipalPayments         113937 non-null  float64\n",
      " 70  LP_InterestandFees                   113937 non-null  float64\n",
      " 71  LP_ServiceFees                       113937 non-null  float64\n",
      " 72  LP_CollectionFees                    113937 non-null  float64\n",
      " 73  LP_GrossPrincipalLoss                113937 non-null  float64\n",
      " 74  LP_NetPrincipalLoss                  113937 non-null  float64\n",
      " 75  LP_NonPrincipalRecoverypayments      113937 non-null  float64\n",
      " 76  PercentFunded                        113937 non-null  float64\n",
      " 77  Recommendations                      113937 non-null  int64  \n",
      " 78  InvestmentFromFriendsCount           113937 non-null  int64  \n",
      " 79  InvestmentFromFriendsAmount          113937 non-null  float64\n",
      " 80  Investors                            113937 non-null  int64  \n",
      "dtypes: bool(3), float64(50), int64(11), object(17)\n",
      "memory usage: 68.1+ MB\n"
     ]
    }
   ],
   "source": [
    "df.info()"
   ]
  },
  {
   "cell_type": "code",
   "execution_count": 5,
   "metadata": {},
   "outputs": [
    {
     "data": {
      "text/html": [
       "<div>\n",
       "<style scoped>\n",
       "    .dataframe tbody tr th:only-of-type {\n",
       "        vertical-align: middle;\n",
       "    }\n",
       "\n",
       "    .dataframe tbody tr th {\n",
       "        vertical-align: top;\n",
       "    }\n",
       "\n",
       "    .dataframe thead th {\n",
       "        text-align: right;\n",
       "    }\n",
       "</style>\n",
       "<table border=\"1\" class=\"dataframe\">\n",
       "  <thead>\n",
       "    <tr style=\"text-align: right;\">\n",
       "      <th></th>\n",
       "      <th>ListingNumber</th>\n",
       "      <th>Term</th>\n",
       "      <th>BorrowerAPR</th>\n",
       "      <th>BorrowerRate</th>\n",
       "      <th>LenderYield</th>\n",
       "      <th>EstimatedEffectiveYield</th>\n",
       "      <th>EstimatedLoss</th>\n",
       "      <th>EstimatedReturn</th>\n",
       "      <th>ProsperRating (numeric)</th>\n",
       "      <th>ProsperScore</th>\n",
       "      <th>...</th>\n",
       "      <th>LP_ServiceFees</th>\n",
       "      <th>LP_CollectionFees</th>\n",
       "      <th>LP_GrossPrincipalLoss</th>\n",
       "      <th>LP_NetPrincipalLoss</th>\n",
       "      <th>LP_NonPrincipalRecoverypayments</th>\n",
       "      <th>PercentFunded</th>\n",
       "      <th>Recommendations</th>\n",
       "      <th>InvestmentFromFriendsCount</th>\n",
       "      <th>InvestmentFromFriendsAmount</th>\n",
       "      <th>Investors</th>\n",
       "    </tr>\n",
       "  </thead>\n",
       "  <tbody>\n",
       "    <tr>\n",
       "      <th>count</th>\n",
       "      <td>1.139370e+05</td>\n",
       "      <td>113937.000000</td>\n",
       "      <td>113912.000000</td>\n",
       "      <td>113937.000000</td>\n",
       "      <td>113937.000000</td>\n",
       "      <td>84853.000000</td>\n",
       "      <td>84853.000000</td>\n",
       "      <td>84853.000000</td>\n",
       "      <td>84853.000000</td>\n",
       "      <td>84853.000000</td>\n",
       "      <td>...</td>\n",
       "      <td>113937.000000</td>\n",
       "      <td>113937.000000</td>\n",
       "      <td>113937.000000</td>\n",
       "      <td>113937.000000</td>\n",
       "      <td>113937.000000</td>\n",
       "      <td>113937.000000</td>\n",
       "      <td>113937.000000</td>\n",
       "      <td>113937.000000</td>\n",
       "      <td>113937.000000</td>\n",
       "      <td>113937.000000</td>\n",
       "    </tr>\n",
       "    <tr>\n",
       "      <th>mean</th>\n",
       "      <td>6.278857e+05</td>\n",
       "      <td>40.830248</td>\n",
       "      <td>0.218828</td>\n",
       "      <td>0.192764</td>\n",
       "      <td>0.182701</td>\n",
       "      <td>0.168661</td>\n",
       "      <td>0.080306</td>\n",
       "      <td>0.096068</td>\n",
       "      <td>4.072243</td>\n",
       "      <td>5.950067</td>\n",
       "      <td>...</td>\n",
       "      <td>-54.725641</td>\n",
       "      <td>-14.242698</td>\n",
       "      <td>700.446342</td>\n",
       "      <td>681.420499</td>\n",
       "      <td>25.142686</td>\n",
       "      <td>0.998584</td>\n",
       "      <td>0.048027</td>\n",
       "      <td>0.023460</td>\n",
       "      <td>16.550751</td>\n",
       "      <td>80.475228</td>\n",
       "    </tr>\n",
       "    <tr>\n",
       "      <th>std</th>\n",
       "      <td>3.280762e+05</td>\n",
       "      <td>10.436212</td>\n",
       "      <td>0.080364</td>\n",
       "      <td>0.074818</td>\n",
       "      <td>0.074516</td>\n",
       "      <td>0.068467</td>\n",
       "      <td>0.046764</td>\n",
       "      <td>0.030403</td>\n",
       "      <td>1.673227</td>\n",
       "      <td>2.376501</td>\n",
       "      <td>...</td>\n",
       "      <td>60.675425</td>\n",
       "      <td>109.232758</td>\n",
       "      <td>2388.513831</td>\n",
       "      <td>2357.167068</td>\n",
       "      <td>275.657937</td>\n",
       "      <td>0.017919</td>\n",
       "      <td>0.332353</td>\n",
       "      <td>0.232412</td>\n",
       "      <td>294.545422</td>\n",
       "      <td>103.239020</td>\n",
       "    </tr>\n",
       "    <tr>\n",
       "      <th>min</th>\n",
       "      <td>4.000000e+00</td>\n",
       "      <td>12.000000</td>\n",
       "      <td>0.006530</td>\n",
       "      <td>0.000000</td>\n",
       "      <td>-0.010000</td>\n",
       "      <td>-0.182700</td>\n",
       "      <td>0.004900</td>\n",
       "      <td>-0.182700</td>\n",
       "      <td>1.000000</td>\n",
       "      <td>1.000000</td>\n",
       "      <td>...</td>\n",
       "      <td>-664.870000</td>\n",
       "      <td>-9274.750000</td>\n",
       "      <td>-94.200000</td>\n",
       "      <td>-954.550000</td>\n",
       "      <td>0.000000</td>\n",
       "      <td>0.700000</td>\n",
       "      <td>0.000000</td>\n",
       "      <td>0.000000</td>\n",
       "      <td>0.000000</td>\n",
       "      <td>1.000000</td>\n",
       "    </tr>\n",
       "    <tr>\n",
       "      <th>25%</th>\n",
       "      <td>4.009190e+05</td>\n",
       "      <td>36.000000</td>\n",
       "      <td>0.156290</td>\n",
       "      <td>0.134000</td>\n",
       "      <td>0.124200</td>\n",
       "      <td>0.115670</td>\n",
       "      <td>0.042400</td>\n",
       "      <td>0.074080</td>\n",
       "      <td>3.000000</td>\n",
       "      <td>4.000000</td>\n",
       "      <td>...</td>\n",
       "      <td>-73.180000</td>\n",
       "      <td>0.000000</td>\n",
       "      <td>0.000000</td>\n",
       "      <td>0.000000</td>\n",
       "      <td>0.000000</td>\n",
       "      <td>1.000000</td>\n",
       "      <td>0.000000</td>\n",
       "      <td>0.000000</td>\n",
       "      <td>0.000000</td>\n",
       "      <td>2.000000</td>\n",
       "    </tr>\n",
       "    <tr>\n",
       "      <th>50%</th>\n",
       "      <td>6.005540e+05</td>\n",
       "      <td>36.000000</td>\n",
       "      <td>0.209760</td>\n",
       "      <td>0.184000</td>\n",
       "      <td>0.173000</td>\n",
       "      <td>0.161500</td>\n",
       "      <td>0.072400</td>\n",
       "      <td>0.091700</td>\n",
       "      <td>4.000000</td>\n",
       "      <td>6.000000</td>\n",
       "      <td>...</td>\n",
       "      <td>-34.440000</td>\n",
       "      <td>0.000000</td>\n",
       "      <td>0.000000</td>\n",
       "      <td>0.000000</td>\n",
       "      <td>0.000000</td>\n",
       "      <td>1.000000</td>\n",
       "      <td>0.000000</td>\n",
       "      <td>0.000000</td>\n",
       "      <td>0.000000</td>\n",
       "      <td>44.000000</td>\n",
       "    </tr>\n",
       "    <tr>\n",
       "      <th>75%</th>\n",
       "      <td>8.926340e+05</td>\n",
       "      <td>36.000000</td>\n",
       "      <td>0.283810</td>\n",
       "      <td>0.250000</td>\n",
       "      <td>0.240000</td>\n",
       "      <td>0.224300</td>\n",
       "      <td>0.112000</td>\n",
       "      <td>0.116600</td>\n",
       "      <td>5.000000</td>\n",
       "      <td>8.000000</td>\n",
       "      <td>...</td>\n",
       "      <td>-13.920000</td>\n",
       "      <td>0.000000</td>\n",
       "      <td>0.000000</td>\n",
       "      <td>0.000000</td>\n",
       "      <td>0.000000</td>\n",
       "      <td>1.000000</td>\n",
       "      <td>0.000000</td>\n",
       "      <td>0.000000</td>\n",
       "      <td>0.000000</td>\n",
       "      <td>115.000000</td>\n",
       "    </tr>\n",
       "    <tr>\n",
       "      <th>max</th>\n",
       "      <td>1.255725e+06</td>\n",
       "      <td>60.000000</td>\n",
       "      <td>0.512290</td>\n",
       "      <td>0.497500</td>\n",
       "      <td>0.492500</td>\n",
       "      <td>0.319900</td>\n",
       "      <td>0.366000</td>\n",
       "      <td>0.283700</td>\n",
       "      <td>7.000000</td>\n",
       "      <td>11.000000</td>\n",
       "      <td>...</td>\n",
       "      <td>32.060000</td>\n",
       "      <td>0.000000</td>\n",
       "      <td>25000.000000</td>\n",
       "      <td>25000.000000</td>\n",
       "      <td>21117.900000</td>\n",
       "      <td>1.012500</td>\n",
       "      <td>39.000000</td>\n",
       "      <td>33.000000</td>\n",
       "      <td>25000.000000</td>\n",
       "      <td>1189.000000</td>\n",
       "    </tr>\n",
       "  </tbody>\n",
       "</table>\n",
       "<p>8 rows × 61 columns</p>\n",
       "</div>"
      ],
      "text/plain": [
       "       ListingNumber           Term    BorrowerAPR   BorrowerRate  \\\n",
       "count   1.139370e+05  113937.000000  113912.000000  113937.000000   \n",
       "mean    6.278857e+05      40.830248       0.218828       0.192764   \n",
       "std     3.280762e+05      10.436212       0.080364       0.074818   \n",
       "min     4.000000e+00      12.000000       0.006530       0.000000   \n",
       "25%     4.009190e+05      36.000000       0.156290       0.134000   \n",
       "50%     6.005540e+05      36.000000       0.209760       0.184000   \n",
       "75%     8.926340e+05      36.000000       0.283810       0.250000   \n",
       "max     1.255725e+06      60.000000       0.512290       0.497500   \n",
       "\n",
       "         LenderYield  EstimatedEffectiveYield  EstimatedLoss  EstimatedReturn  \\\n",
       "count  113937.000000             84853.000000   84853.000000     84853.000000   \n",
       "mean        0.182701                 0.168661       0.080306         0.096068   \n",
       "std         0.074516                 0.068467       0.046764         0.030403   \n",
       "min        -0.010000                -0.182700       0.004900        -0.182700   \n",
       "25%         0.124200                 0.115670       0.042400         0.074080   \n",
       "50%         0.173000                 0.161500       0.072400         0.091700   \n",
       "75%         0.240000                 0.224300       0.112000         0.116600   \n",
       "max         0.492500                 0.319900       0.366000         0.283700   \n",
       "\n",
       "       ProsperRating (numeric)  ProsperScore  ...  LP_ServiceFees  \\\n",
       "count             84853.000000  84853.000000  ...   113937.000000   \n",
       "mean                  4.072243      5.950067  ...      -54.725641   \n",
       "std                   1.673227      2.376501  ...       60.675425   \n",
       "min                   1.000000      1.000000  ...     -664.870000   \n",
       "25%                   3.000000      4.000000  ...      -73.180000   \n",
       "50%                   4.000000      6.000000  ...      -34.440000   \n",
       "75%                   5.000000      8.000000  ...      -13.920000   \n",
       "max                   7.000000     11.000000  ...       32.060000   \n",
       "\n",
       "       LP_CollectionFees  LP_GrossPrincipalLoss  LP_NetPrincipalLoss  \\\n",
       "count      113937.000000          113937.000000        113937.000000   \n",
       "mean          -14.242698             700.446342           681.420499   \n",
       "std           109.232758            2388.513831          2357.167068   \n",
       "min         -9274.750000             -94.200000          -954.550000   \n",
       "25%             0.000000               0.000000             0.000000   \n",
       "50%             0.000000               0.000000             0.000000   \n",
       "75%             0.000000               0.000000             0.000000   \n",
       "max             0.000000           25000.000000         25000.000000   \n",
       "\n",
       "       LP_NonPrincipalRecoverypayments  PercentFunded  Recommendations  \\\n",
       "count                    113937.000000  113937.000000    113937.000000   \n",
       "mean                         25.142686       0.998584         0.048027   \n",
       "std                         275.657937       0.017919         0.332353   \n",
       "min                           0.000000       0.700000         0.000000   \n",
       "25%                           0.000000       1.000000         0.000000   \n",
       "50%                           0.000000       1.000000         0.000000   \n",
       "75%                           0.000000       1.000000         0.000000   \n",
       "max                       21117.900000       1.012500        39.000000   \n",
       "\n",
       "       InvestmentFromFriendsCount  InvestmentFromFriendsAmount      Investors  \n",
       "count               113937.000000                113937.000000  113937.000000  \n",
       "mean                     0.023460                    16.550751      80.475228  \n",
       "std                      0.232412                   294.545422     103.239020  \n",
       "min                      0.000000                     0.000000       1.000000  \n",
       "25%                      0.000000                     0.000000       2.000000  \n",
       "50%                      0.000000                     0.000000      44.000000  \n",
       "75%                      0.000000                     0.000000     115.000000  \n",
       "max                     33.000000                 25000.000000    1189.000000  \n",
       "\n",
       "[8 rows x 61 columns]"
      ]
     },
     "execution_count": 5,
     "metadata": {},
     "output_type": "execute_result"
    }
   ],
   "source": [
    "df.describe()"
   ]
  },
  {
   "cell_type": "code",
   "execution_count": 6,
   "metadata": {},
   "outputs": [
    {
     "data": {
      "text/plain": [
       "Index(['ListingKey', 'ListingNumber', 'ListingCreationDate', 'CreditGrade',\n",
       "       'Term', 'LoanStatus', 'ClosedDate', 'BorrowerAPR', 'BorrowerRate',\n",
       "       'LenderYield', 'EstimatedEffectiveYield', 'EstimatedLoss',\n",
       "       'EstimatedReturn', 'ProsperRating (numeric)', 'ProsperRating (Alpha)',\n",
       "       'ProsperScore', 'ListingCategory (numeric)', 'BorrowerState',\n",
       "       'Occupation', 'EmploymentStatus', 'EmploymentStatusDuration',\n",
       "       'IsBorrowerHomeowner', 'CurrentlyInGroup', 'GroupKey',\n",
       "       'DateCreditPulled', 'CreditScoreRangeLower', 'CreditScoreRangeUpper',\n",
       "       'FirstRecordedCreditLine', 'CurrentCreditLines', 'OpenCreditLines',\n",
       "       'TotalCreditLinespast7years', 'OpenRevolvingAccounts',\n",
       "       'OpenRevolvingMonthlyPayment', 'InquiriesLast6Months', 'TotalInquiries',\n",
       "       'CurrentDelinquencies', 'AmountDelinquent', 'DelinquenciesLast7Years',\n",
       "       'PublicRecordsLast10Years', 'PublicRecordsLast12Months',\n",
       "       'RevolvingCreditBalance', 'BankcardUtilization',\n",
       "       'AvailableBankcardCredit', 'TotalTrades',\n",
       "       'TradesNeverDelinquent (percentage)', 'TradesOpenedLast6Months',\n",
       "       'DebtToIncomeRatio', 'IncomeRange', 'IncomeVerifiable',\n",
       "       'StatedMonthlyIncome', 'LoanKey', 'TotalProsperLoans',\n",
       "       'TotalProsperPaymentsBilled', 'OnTimeProsperPayments',\n",
       "       'ProsperPaymentsLessThanOneMonthLate',\n",
       "       'ProsperPaymentsOneMonthPlusLate', 'ProsperPrincipalBorrowed',\n",
       "       'ProsperPrincipalOutstanding', 'ScorexChangeAtTimeOfListing',\n",
       "       'LoanCurrentDaysDelinquent', 'LoanFirstDefaultedCycleNumber',\n",
       "       'LoanMonthsSinceOrigination', 'LoanNumber', 'LoanOriginalAmount',\n",
       "       'LoanOriginationDate', 'LoanOriginationQuarter', 'MemberKey',\n",
       "       'MonthlyLoanPayment', 'LP_CustomerPayments',\n",
       "       'LP_CustomerPrincipalPayments', 'LP_InterestandFees', 'LP_ServiceFees',\n",
       "       'LP_CollectionFees', 'LP_GrossPrincipalLoss', 'LP_NetPrincipalLoss',\n",
       "       'LP_NonPrincipalRecoverypayments', 'PercentFunded', 'Recommendations',\n",
       "       'InvestmentFromFriendsCount', 'InvestmentFromFriendsAmount',\n",
       "       'Investors'],\n",
       "      dtype='object')"
      ]
     },
     "execution_count": 6,
     "metadata": {},
     "output_type": "execute_result"
    }
   ],
   "source": [
    "df.columns"
   ]
  },
  {
   "cell_type": "markdown",
   "metadata": {},
   "source": [
    "### What is the structure of your dataset?\n",
    "\n",
    "> We have 113937 rows and 81 columns or features. From describe function it seems most of the features are numeric, some are categorical and others are time/periodical features \n",
    "\n",
    "### What is/are the main feature(s) of interest in your dataset?\n",
    "\n",
    "> I am interested in borrowers features and features related to loan or those that affect loan performance. \n",
    "\n",
    "\n",
    "### What features in the dataset do you think will help support your investigation into your feature(s) of interest?\n",
    "\n",
    "> In this analysis I will be focusing on the following columns that I suspect has effect on the loan performance  \n",
    "\n",
    "``` \n",
    "[ListingNumber, CreditGrade',Term, LoanStatus, ClosedDate, BorrowerAPR, BorrowerRate, BorrowerState, Occupation, EmploymentStatus, InvestmentFromFriendsCount, InvestmentFromFriendsAmount,LoanOriginalAmount,ProsperRating (Alpha),IncomeRange', StatedMonthlyIncome, LoanCurrentDaysDelinquent, LoanOriginalAmount, LoanOriginationDate,  MonthlyLoanPayment and Investors ]\n",
    "```"
   ]
  },
  {
   "cell_type": "code",
   "execution_count": 96,
   "metadata": {},
   "outputs": [
    {
     "data": {
      "text/html": [
       "<div>\n",
       "<style scoped>\n",
       "    .dataframe tbody tr th:only-of-type {\n",
       "        vertical-align: middle;\n",
       "    }\n",
       "\n",
       "    .dataframe tbody tr th {\n",
       "        vertical-align: top;\n",
       "    }\n",
       "\n",
       "    .dataframe thead th {\n",
       "        text-align: right;\n",
       "    }\n",
       "</style>\n",
       "<table border=\"1\" class=\"dataframe\">\n",
       "  <thead>\n",
       "    <tr style=\"text-align: right;\">\n",
       "      <th></th>\n",
       "      <th>ListingNumber</th>\n",
       "      <th>CreditGrade</th>\n",
       "      <th>Term</th>\n",
       "      <th>LoanStatus</th>\n",
       "      <th>ClosedDate</th>\n",
       "      <th>BorrowerAPR</th>\n",
       "      <th>BorrowerRate</th>\n",
       "      <th>BorrowerState</th>\n",
       "      <th>Occupation</th>\n",
       "      <th>EmploymentStatus</th>\n",
       "      <th>...</th>\n",
       "      <th>ProsperScore</th>\n",
       "      <th>IncomeRange</th>\n",
       "      <th>StatedMonthlyIncome</th>\n",
       "      <th>LoanCurrentDaysDelinquent</th>\n",
       "      <th>DebtToIncomeRatio</th>\n",
       "      <th>LoanOriginalAmount</th>\n",
       "      <th>LoanOriginationDate</th>\n",
       "      <th>MonthlyLoanPayment</th>\n",
       "      <th>Investors</th>\n",
       "      <th>IsBorrowerHomeowner</th>\n",
       "    </tr>\n",
       "  </thead>\n",
       "  <tbody>\n",
       "    <tr>\n",
       "      <th>0</th>\n",
       "      <td>193129</td>\n",
       "      <td>C</td>\n",
       "      <td>36</td>\n",
       "      <td>Completed</td>\n",
       "      <td>2009-08-14 00:00:00</td>\n",
       "      <td>0.16516</td>\n",
       "      <td>0.1580</td>\n",
       "      <td>CO</td>\n",
       "      <td>Other</td>\n",
       "      <td>Self-employed</td>\n",
       "      <td>...</td>\n",
       "      <td>NaN</td>\n",
       "      <td>$25,000-49,999</td>\n",
       "      <td>3083.333333</td>\n",
       "      <td>0</td>\n",
       "      <td>0.17</td>\n",
       "      <td>9425</td>\n",
       "      <td>2007-09-12 00:00:00</td>\n",
       "      <td>330.43</td>\n",
       "      <td>258</td>\n",
       "      <td>True</td>\n",
       "    </tr>\n",
       "    <tr>\n",
       "      <th>1</th>\n",
       "      <td>1209647</td>\n",
       "      <td>NaN</td>\n",
       "      <td>36</td>\n",
       "      <td>Current</td>\n",
       "      <td>NaN</td>\n",
       "      <td>0.12016</td>\n",
       "      <td>0.0920</td>\n",
       "      <td>CO</td>\n",
       "      <td>Professional</td>\n",
       "      <td>Employed</td>\n",
       "      <td>...</td>\n",
       "      <td>7.0</td>\n",
       "      <td>$50,000-74,999</td>\n",
       "      <td>6125.000000</td>\n",
       "      <td>0</td>\n",
       "      <td>0.18</td>\n",
       "      <td>10000</td>\n",
       "      <td>2014-03-03 00:00:00</td>\n",
       "      <td>318.93</td>\n",
       "      <td>1</td>\n",
       "      <td>False</td>\n",
       "    </tr>\n",
       "    <tr>\n",
       "      <th>2</th>\n",
       "      <td>81716</td>\n",
       "      <td>HR</td>\n",
       "      <td>36</td>\n",
       "      <td>Completed</td>\n",
       "      <td>2009-12-17 00:00:00</td>\n",
       "      <td>0.28269</td>\n",
       "      <td>0.2750</td>\n",
       "      <td>GA</td>\n",
       "      <td>Other</td>\n",
       "      <td>Not available</td>\n",
       "      <td>...</td>\n",
       "      <td>NaN</td>\n",
       "      <td>Not displayed</td>\n",
       "      <td>2083.333333</td>\n",
       "      <td>0</td>\n",
       "      <td>0.06</td>\n",
       "      <td>3001</td>\n",
       "      <td>2007-01-17 00:00:00</td>\n",
       "      <td>123.32</td>\n",
       "      <td>41</td>\n",
       "      <td>False</td>\n",
       "    </tr>\n",
       "    <tr>\n",
       "      <th>3</th>\n",
       "      <td>658116</td>\n",
       "      <td>NaN</td>\n",
       "      <td>36</td>\n",
       "      <td>Current</td>\n",
       "      <td>NaN</td>\n",
       "      <td>0.12528</td>\n",
       "      <td>0.0974</td>\n",
       "      <td>GA</td>\n",
       "      <td>Skilled Labor</td>\n",
       "      <td>Employed</td>\n",
       "      <td>...</td>\n",
       "      <td>9.0</td>\n",
       "      <td>$25,000-49,999</td>\n",
       "      <td>2875.000000</td>\n",
       "      <td>0</td>\n",
       "      <td>0.15</td>\n",
       "      <td>10000</td>\n",
       "      <td>2012-11-01 00:00:00</td>\n",
       "      <td>321.45</td>\n",
       "      <td>158</td>\n",
       "      <td>True</td>\n",
       "    </tr>\n",
       "    <tr>\n",
       "      <th>4</th>\n",
       "      <td>909464</td>\n",
       "      <td>NaN</td>\n",
       "      <td>36</td>\n",
       "      <td>Current</td>\n",
       "      <td>NaN</td>\n",
       "      <td>0.24614</td>\n",
       "      <td>0.2085</td>\n",
       "      <td>MN</td>\n",
       "      <td>Executive</td>\n",
       "      <td>Employed</td>\n",
       "      <td>...</td>\n",
       "      <td>4.0</td>\n",
       "      <td>$100,000+</td>\n",
       "      <td>9583.333333</td>\n",
       "      <td>0</td>\n",
       "      <td>0.26</td>\n",
       "      <td>15000</td>\n",
       "      <td>2013-09-20 00:00:00</td>\n",
       "      <td>563.97</td>\n",
       "      <td>20</td>\n",
       "      <td>True</td>\n",
       "    </tr>\n",
       "  </tbody>\n",
       "</table>\n",
       "<p>5 rows × 24 columns</p>\n",
       "</div>"
      ],
      "text/plain": [
       "   ListingNumber CreditGrade  Term LoanStatus           ClosedDate  \\\n",
       "0         193129           C    36  Completed  2009-08-14 00:00:00   \n",
       "1        1209647         NaN    36    Current                  NaN   \n",
       "2          81716          HR    36  Completed  2009-12-17 00:00:00   \n",
       "3         658116         NaN    36    Current                  NaN   \n",
       "4         909464         NaN    36    Current                  NaN   \n",
       "\n",
       "   BorrowerAPR  BorrowerRate BorrowerState     Occupation EmploymentStatus  \\\n",
       "0      0.16516        0.1580            CO          Other    Self-employed   \n",
       "1      0.12016        0.0920            CO   Professional         Employed   \n",
       "2      0.28269        0.2750            GA          Other    Not available   \n",
       "3      0.12528        0.0974            GA  Skilled Labor         Employed   \n",
       "4      0.24614        0.2085            MN      Executive         Employed   \n",
       "\n",
       "   ...  ProsperScore     IncomeRange  StatedMonthlyIncome  \\\n",
       "0  ...           NaN  $25,000-49,999          3083.333333   \n",
       "1  ...           7.0  $50,000-74,999          6125.000000   \n",
       "2  ...           NaN   Not displayed          2083.333333   \n",
       "3  ...           9.0  $25,000-49,999          2875.000000   \n",
       "4  ...           4.0       $100,000+          9583.333333   \n",
       "\n",
       "  LoanCurrentDaysDelinquent  DebtToIncomeRatio LoanOriginalAmount  \\\n",
       "0                         0               0.17               9425   \n",
       "1                         0               0.18              10000   \n",
       "2                         0               0.06               3001   \n",
       "3                         0               0.15              10000   \n",
       "4                         0               0.26              15000   \n",
       "\n",
       "   LoanOriginationDate  MonthlyLoanPayment  Investors  IsBorrowerHomeowner  \n",
       "0  2007-09-12 00:00:00              330.43        258                 True  \n",
       "1  2014-03-03 00:00:00              318.93          1                False  \n",
       "2  2007-01-17 00:00:00              123.32         41                False  \n",
       "3  2012-11-01 00:00:00              321.45        158                 True  \n",
       "4  2013-09-20 00:00:00              563.97         20                 True  \n",
       "\n",
       "[5 rows x 24 columns]"
      ]
     },
     "execution_count": 96,
     "metadata": {},
     "output_type": "execute_result"
    }
   ],
   "source": [
    "columns_sub = ['ListingNumber', 'CreditGrade', 'Term', 'LoanStatus', 'ClosedDate', 'BorrowerAPR', \n",
    "               'BorrowerRate', 'BorrowerState', 'Occupation', 'EmploymentStatus', 'InvestmentFromFriendsCount', \n",
    "               'InvestmentFromFriendsAmount', 'LoanOriginalAmount', 'ProsperRating (Alpha)','ProsperScore','IncomeRange', \n",
    "               'StatedMonthlyIncome', 'LoanCurrentDaysDelinquent', 'DebtToIncomeRatio','LoanOriginalAmount', 'LoanOriginationDate',  \n",
    "               'MonthlyLoanPayment', 'Investors','IsBorrowerHomeowner' ]\n",
    "loan_df = df[columns_sub]\n",
    "loan_df.head()"
   ]
  },
  {
   "cell_type": "code",
   "execution_count": 110,
   "metadata": {},
   "outputs": [
    {
     "name": "stderr",
     "output_type": "stream",
     "text": [
      "C:\\Users\\samso\\AppData\\Local\\Temp\\ipykernel_10880\\2014221369.py:2: SettingWithCopyWarning: \n",
      "A value is trying to be set on a copy of a slice from a DataFrame\n",
      "\n",
      "See the caveats in the documentation: https://pandas.pydata.org/pandas-docs/stable/user_guide/indexing.html#returning-a-view-versus-a-copy\n",
      "  loan_df.rename(columns = {'ProsperRating (Alpha)':'ProsperRating'}, inplace = True)\n"
     ]
    },
    {
     "data": {
      "text/html": [
       "<div>\n",
       "<style scoped>\n",
       "    .dataframe tbody tr th:only-of-type {\n",
       "        vertical-align: middle;\n",
       "    }\n",
       "\n",
       "    .dataframe tbody tr th {\n",
       "        vertical-align: top;\n",
       "    }\n",
       "\n",
       "    .dataframe thead th {\n",
       "        text-align: right;\n",
       "    }\n",
       "</style>\n",
       "<table border=\"1\" class=\"dataframe\">\n",
       "  <thead>\n",
       "    <tr style=\"text-align: right;\">\n",
       "      <th></th>\n",
       "      <th>ListingNumber</th>\n",
       "      <th>CreditGrade</th>\n",
       "      <th>Term</th>\n",
       "      <th>LoanStatus</th>\n",
       "      <th>ClosedDate</th>\n",
       "      <th>BorrowerAPR</th>\n",
       "      <th>BorrowerRate</th>\n",
       "      <th>BorrowerState</th>\n",
       "      <th>Occupation</th>\n",
       "      <th>EmploymentStatus</th>\n",
       "      <th>...</th>\n",
       "      <th>LoanCurrentDaysDelinquent</th>\n",
       "      <th>DebtToIncomeRatio</th>\n",
       "      <th>LoanOriginalAmount</th>\n",
       "      <th>LoanOriginationDate</th>\n",
       "      <th>MonthlyLoanPayment</th>\n",
       "      <th>Investors</th>\n",
       "      <th>IsBorrowerHomeowner</th>\n",
       "      <th>loan_year</th>\n",
       "      <th>loan_month</th>\n",
       "      <th>HomeOwner</th>\n",
       "    </tr>\n",
       "  </thead>\n",
       "  <tbody>\n",
       "    <tr>\n",
       "      <th>0</th>\n",
       "      <td>193129</td>\n",
       "      <td>C</td>\n",
       "      <td>36</td>\n",
       "      <td>Completed</td>\n",
       "      <td>2009-08-14 00:00:00</td>\n",
       "      <td>0.16516</td>\n",
       "      <td>0.1580</td>\n",
       "      <td>CO</td>\n",
       "      <td>Other</td>\n",
       "      <td>Self-employed</td>\n",
       "      <td>...</td>\n",
       "      <td>0</td>\n",
       "      <td>0.17</td>\n",
       "      <td>9425</td>\n",
       "      <td>2007-09-12 00:00:00</td>\n",
       "      <td>330.43</td>\n",
       "      <td>258</td>\n",
       "      <td>True</td>\n",
       "      <td>2007</td>\n",
       "      <td>9</td>\n",
       "      <td>Yes</td>\n",
       "    </tr>\n",
       "    <tr>\n",
       "      <th>1</th>\n",
       "      <td>1209647</td>\n",
       "      <td>NaN</td>\n",
       "      <td>36</td>\n",
       "      <td>Current</td>\n",
       "      <td>NaN</td>\n",
       "      <td>0.12016</td>\n",
       "      <td>0.0920</td>\n",
       "      <td>CO</td>\n",
       "      <td>Professional</td>\n",
       "      <td>Employed</td>\n",
       "      <td>...</td>\n",
       "      <td>0</td>\n",
       "      <td>0.18</td>\n",
       "      <td>10000</td>\n",
       "      <td>2014-03-03 00:00:00</td>\n",
       "      <td>318.93</td>\n",
       "      <td>1</td>\n",
       "      <td>False</td>\n",
       "      <td>2014</td>\n",
       "      <td>3</td>\n",
       "      <td>No</td>\n",
       "    </tr>\n",
       "    <tr>\n",
       "      <th>2</th>\n",
       "      <td>81716</td>\n",
       "      <td>HR</td>\n",
       "      <td>36</td>\n",
       "      <td>Completed</td>\n",
       "      <td>2009-12-17 00:00:00</td>\n",
       "      <td>0.28269</td>\n",
       "      <td>0.2750</td>\n",
       "      <td>GA</td>\n",
       "      <td>Other</td>\n",
       "      <td>Not available</td>\n",
       "      <td>...</td>\n",
       "      <td>0</td>\n",
       "      <td>0.06</td>\n",
       "      <td>3001</td>\n",
       "      <td>2007-01-17 00:00:00</td>\n",
       "      <td>123.32</td>\n",
       "      <td>41</td>\n",
       "      <td>False</td>\n",
       "      <td>2007</td>\n",
       "      <td>1</td>\n",
       "      <td>No</td>\n",
       "    </tr>\n",
       "    <tr>\n",
       "      <th>3</th>\n",
       "      <td>658116</td>\n",
       "      <td>NaN</td>\n",
       "      <td>36</td>\n",
       "      <td>Current</td>\n",
       "      <td>NaN</td>\n",
       "      <td>0.12528</td>\n",
       "      <td>0.0974</td>\n",
       "      <td>GA</td>\n",
       "      <td>Skilled Labor</td>\n",
       "      <td>Employed</td>\n",
       "      <td>...</td>\n",
       "      <td>0</td>\n",
       "      <td>0.15</td>\n",
       "      <td>10000</td>\n",
       "      <td>2012-11-01 00:00:00</td>\n",
       "      <td>321.45</td>\n",
       "      <td>158</td>\n",
       "      <td>True</td>\n",
       "      <td>2012</td>\n",
       "      <td>11</td>\n",
       "      <td>Yes</td>\n",
       "    </tr>\n",
       "    <tr>\n",
       "      <th>4</th>\n",
       "      <td>909464</td>\n",
       "      <td>NaN</td>\n",
       "      <td>36</td>\n",
       "      <td>Current</td>\n",
       "      <td>NaN</td>\n",
       "      <td>0.24614</td>\n",
       "      <td>0.2085</td>\n",
       "      <td>MN</td>\n",
       "      <td>Executive</td>\n",
       "      <td>Employed</td>\n",
       "      <td>...</td>\n",
       "      <td>0</td>\n",
       "      <td>0.26</td>\n",
       "      <td>15000</td>\n",
       "      <td>2013-09-20 00:00:00</td>\n",
       "      <td>563.97</td>\n",
       "      <td>20</td>\n",
       "      <td>True</td>\n",
       "      <td>2013</td>\n",
       "      <td>9</td>\n",
       "      <td>Yes</td>\n",
       "    </tr>\n",
       "  </tbody>\n",
       "</table>\n",
       "<p>5 rows × 27 columns</p>\n",
       "</div>"
      ],
      "text/plain": [
       "   ListingNumber CreditGrade  Term LoanStatus           ClosedDate  \\\n",
       "0         193129           C    36  Completed  2009-08-14 00:00:00   \n",
       "1        1209647         NaN    36    Current                  NaN   \n",
       "2          81716          HR    36  Completed  2009-12-17 00:00:00   \n",
       "3         658116         NaN    36    Current                  NaN   \n",
       "4         909464         NaN    36    Current                  NaN   \n",
       "\n",
       "   BorrowerAPR  BorrowerRate BorrowerState     Occupation EmploymentStatus  \\\n",
       "0      0.16516        0.1580            CO          Other    Self-employed   \n",
       "1      0.12016        0.0920            CO   Professional         Employed   \n",
       "2      0.28269        0.2750            GA          Other    Not available   \n",
       "3      0.12528        0.0974            GA  Skilled Labor         Employed   \n",
       "4      0.24614        0.2085            MN      Executive         Employed   \n",
       "\n",
       "   ...  LoanCurrentDaysDelinquent  DebtToIncomeRatio  LoanOriginalAmount  \\\n",
       "0  ...                          0               0.17                9425   \n",
       "1  ...                          0               0.18               10000   \n",
       "2  ...                          0               0.06                3001   \n",
       "3  ...                          0               0.15               10000   \n",
       "4  ...                          0               0.26               15000   \n",
       "\n",
       "   LoanOriginationDate  MonthlyLoanPayment Investors  IsBorrowerHomeowner  \\\n",
       "0  2007-09-12 00:00:00              330.43       258                 True   \n",
       "1  2014-03-03 00:00:00              318.93         1                False   \n",
       "2  2007-01-17 00:00:00              123.32        41                False   \n",
       "3  2012-11-01 00:00:00              321.45       158                 True   \n",
       "4  2013-09-20 00:00:00              563.97        20                 True   \n",
       "\n",
       "   loan_year  loan_month  HomeOwner  \n",
       "0       2007           9        Yes  \n",
       "1       2014           3         No  \n",
       "2       2007           1         No  \n",
       "3       2012          11        Yes  \n",
       "4       2013           9        Yes  \n",
       "\n",
       "[5 rows x 27 columns]"
      ]
     },
     "execution_count": 110,
     "metadata": {},
     "output_type": "execute_result"
    }
   ],
   "source": [
    "#Rename ProsperRating (Alpha) column by removing the (Alpha)\n",
    "loan_df.rename(columns = {'ProsperRating (Alpha)':'ProsperRating'}, inplace = True)\n",
    "loan_df.head()"
   ]
  },
  {
   "cell_type": "code",
   "execution_count": 9,
   "metadata": {},
   "outputs": [
    {
     "name": "stdout",
     "output_type": "stream",
     "text": [
      "<class 'pandas.core.frame.DataFrame'>\n",
      "RangeIndex: 113937 entries, 0 to 113936\n",
      "Data columns (total 23 columns):\n",
      " #   Column                       Non-Null Count   Dtype  \n",
      "---  ------                       --------------   -----  \n",
      " 0   ListingNumber                113937 non-null  int64  \n",
      " 1   CreditGrade                  28953 non-null   object \n",
      " 2   Term                         113937 non-null  int64  \n",
      " 3   LoanStatus                   113937 non-null  object \n",
      " 4   ClosedDate                   55089 non-null   object \n",
      " 5   BorrowerAPR                  113912 non-null  float64\n",
      " 6   BorrowerRate                 113937 non-null  float64\n",
      " 7   BorrowerState                108422 non-null  object \n",
      " 8   Occupation                   110349 non-null  object \n",
      " 9   EmploymentStatus             111682 non-null  object \n",
      " 10  InvestmentFromFriendsCount   113937 non-null  int64  \n",
      " 11  InvestmentFromFriendsAmount  113937 non-null  float64\n",
      " 12  LoanOriginalAmount           113937 non-null  int64  \n",
      " 13  ProsperRating                84853 non-null   object \n",
      " 14  IncomeRange                  113937 non-null  object \n",
      " 15  StatedMonthlyIncome          113937 non-null  float64\n",
      " 16  LoanCurrentDaysDelinquent    113937 non-null  int64  \n",
      " 17  DebtToIncomeRatio            105383 non-null  float64\n",
      " 18  LoanOriginalAmount           113937 non-null  int64  \n",
      " 19  LoanOriginationDate          113937 non-null  object \n",
      " 20  MonthlyLoanPayment           113937 non-null  float64\n",
      " 21  Investors                    113937 non-null  int64  \n",
      " 22  IsBorrowerHomeowner          113937 non-null  bool   \n",
      "dtypes: bool(1), float64(6), int64(7), object(9)\n",
      "memory usage: 19.2+ MB\n"
     ]
    }
   ],
   "source": [
    "loan_df.info()"
   ]
  },
  {
   "cell_type": "code",
   "execution_count": null,
   "metadata": {},
   "outputs": [],
   "source": []
  },
  {
   "cell_type": "markdown",
   "metadata": {},
   "source": [
    "## Data cleaning\n",
    "\n",
    "#### Definition of data cleaning issues\n",
    "1. Remove duplicates rows\n",
    "2. Convert the date columns to date data type\n",
    "3. Rename ProsperRating (Alpha) column to `ProsperRating`\n",
    "4. Replace `NaT` dates to Null\n",
    "5. Add new columns Month and Year pulled from loanOriginateDate column\n",
    "6. We have `Not employed` and `Not displayed` in the list of ranges. We can replace this with `$0`\n",
    "7. Replace True and False values in `IsBorrowerHomeowner` to have Yes or No\n"
   ]
  },
  {
   "cell_type": "code",
   "execution_count": 10,
   "metadata": {},
   "outputs": [
    {
     "data": {
      "text/plain": [
       "871"
      ]
     },
     "execution_count": 10,
     "metadata": {},
     "output_type": "execute_result"
    }
   ],
   "source": [
    "#check for duplicates\n",
    "loan_df.duplicated().sum()"
   ]
  },
  {
   "cell_type": "code",
   "execution_count": 11,
   "metadata": {},
   "outputs": [
    {
     "name": "stderr",
     "output_type": "stream",
     "text": [
      "C:\\Users\\samso\\AppData\\Local\\Temp\\ipykernel_10880\\3896928886.py:2: SettingWithCopyWarning: \n",
      "A value is trying to be set on a copy of a slice from a DataFrame\n",
      "\n",
      "See the caveats in the documentation: https://pandas.pydata.org/pandas-docs/stable/user_guide/indexing.html#returning-a-view-versus-a-copy\n",
      "  loan_df.drop_duplicates(keep=False, inplace=True)\n"
     ]
    }
   ],
   "source": [
    "#Drop the duplicate rows\n",
    "loan_df.drop_duplicates(keep=False, inplace=True)"
   ]
  },
  {
   "cell_type": "code",
   "execution_count": 12,
   "metadata": {},
   "outputs": [
    {
     "data": {
      "text/plain": [
       "0"
      ]
     },
     "execution_count": 12,
     "metadata": {},
     "output_type": "execute_result"
    }
   ],
   "source": [
    "#Check to confirm if we still have duplicate rows\n",
    "loan_df.duplicated().sum()"
   ]
  },
  {
   "cell_type": "code",
   "execution_count": 13,
   "metadata": {},
   "outputs": [
    {
     "name": "stderr",
     "output_type": "stream",
     "text": [
      "C:\\Users\\samso\\AppData\\Local\\Temp\\ipykernel_10880\\3640516210.py:2: SettingWithCopyWarning: \n",
      "A value is trying to be set on a copy of a slice from a DataFrame.\n",
      "Try using .loc[row_indexer,col_indexer] = value instead\n",
      "\n",
      "See the caveats in the documentation: https://pandas.pydata.org/pandas-docs/stable/user_guide/indexing.html#returning-a-view-versus-a-copy\n",
      "  loan_df[\"ClosedDate\"]=pd.to_datetime(loan_df[\"ClosedDate\"])\n",
      "C:\\Users\\samso\\AppData\\Local\\Temp\\ipykernel_10880\\3640516210.py:3: SettingWithCopyWarning: \n",
      "A value is trying to be set on a copy of a slice from a DataFrame.\n",
      "Try using .loc[row_indexer,col_indexer] = value instead\n",
      "\n",
      "See the caveats in the documentation: https://pandas.pydata.org/pandas-docs/stable/user_guide/indexing.html#returning-a-view-versus-a-copy\n",
      "  loan_df[\"LoanOriginationDate\"]=pd.to_datetime(loan_df[\"LoanOriginationDate\"])\n"
     ]
    }
   ],
   "source": [
    "#Convert ClosedDate and LoanOriginationDate column to datetime data type\n",
    "loan_df[\"ClosedDate\"]=pd.to_datetime(loan_df[\"ClosedDate\"])\n",
    "loan_df[\"LoanOriginationDate\"]=pd.to_datetime(loan_df[\"LoanOriginationDate\"])"
   ]
  },
  {
   "cell_type": "code",
   "execution_count": 14,
   "metadata": {},
   "outputs": [
    {
     "data": {
      "text/plain": [
       "0   2009-08-14\n",
       "1          NaT\n",
       "2   2009-12-17\n",
       "3          NaT\n",
       "4          NaT\n",
       "Name: ClosedDate, dtype: datetime64[ns]"
      ]
     },
     "execution_count": 14,
     "metadata": {},
     "output_type": "execute_result"
    }
   ],
   "source": [
    "#After converting now check the column\n",
    "loan_df.ClosedDate[:5]"
   ]
  },
  {
   "cell_type": "code",
   "execution_count": 15,
   "metadata": {},
   "outputs": [
    {
     "data": {
      "text/plain": [
       "0   2007-09-12\n",
       "1   2014-03-03\n",
       "2   2007-01-17\n",
       "3   2012-11-01\n",
       "4   2013-09-20\n",
       "Name: LoanOriginationDate, dtype: datetime64[ns]"
      ]
     },
     "execution_count": 15,
     "metadata": {},
     "output_type": "execute_result"
    }
   ],
   "source": [
    "#After converting now check the column\n",
    "loan_df.LoanOriginationDate[:5]"
   ]
  },
  {
   "cell_type": "code",
   "execution_count": 16,
   "metadata": {},
   "outputs": [
    {
     "name": "stderr",
     "output_type": "stream",
     "text": [
      "C:\\Users\\samso\\AppData\\Local\\Temp\\ipykernel_10880\\718164740.py:1: SettingWithCopyWarning: \n",
      "A value is trying to be set on a copy of a slice from a DataFrame.\n",
      "Try using .loc[row_indexer,col_indexer] = value instead\n",
      "\n",
      "See the caveats in the documentation: https://pandas.pydata.org/pandas-docs/stable/user_guide/indexing.html#returning-a-view-versus-a-copy\n",
      "  loan_df['ClosedDate_test'] = loan_df['ClosedDate'].replace(\"NaT\", np.nan)\n"
     ]
    },
    {
     "data": {
      "text/plain": [
       "0    2009-08-14\n",
       "1           NaT\n",
       "2    2009-12-17\n",
       "3           NaT\n",
       "4           NaT\n",
       "5           NaT\n",
       "6           NaT\n",
       "7           NaT\n",
       "10          NaT\n",
       "11   2008-01-07\n",
       "Name: ClosedDate_test, dtype: datetime64[ns]"
      ]
     },
     "execution_count": 16,
     "metadata": {},
     "output_type": "execute_result"
    }
   ],
   "source": [
    "loan_df['ClosedDate_test'] = loan_df['ClosedDate'].replace(\"NaT\", np.nan)\n",
    "loan_df.ClosedDate_test[:10]"
   ]
  },
  {
   "cell_type": "markdown",
   "metadata": {},
   "source": [
    "### Define\n",
    "Add new columns Month and Year pulled from loanOriginateDate column\n",
    "#check for duplicates"
   ]
  },
  {
   "cell_type": "code",
   "execution_count": 101,
   "metadata": {},
   "outputs": [
    {
     "name": "stderr",
     "output_type": "stream",
     "text": [
      "C:\\Users\\samso\\AppData\\Local\\Temp\\ipykernel_10880\\4282071776.py:2: SettingWithCopyWarning: \n",
      "A value is trying to be set on a copy of a slice from a DataFrame.\n",
      "Try using .loc[row_indexer,col_indexer] = value instead\n",
      "\n",
      "See the caveats in the documentation: https://pandas.pydata.org/pandas-docs/stable/user_guide/indexing.html#returning-a-view-versus-a-copy\n",
      "  loan_df['loan_year'] = pd.DatetimeIndex(loan_df['LoanOriginationDate']).year\n",
      "C:\\Users\\samso\\AppData\\Local\\Temp\\ipykernel_10880\\4282071776.py:3: SettingWithCopyWarning: \n",
      "A value is trying to be set on a copy of a slice from a DataFrame.\n",
      "Try using .loc[row_indexer,col_indexer] = value instead\n",
      "\n",
      "See the caveats in the documentation: https://pandas.pydata.org/pandas-docs/stable/user_guide/indexing.html#returning-a-view-versus-a-copy\n",
      "  loan_df['loan_month'] = pd.DatetimeIndex(loan_df['LoanOriginationDate']).month\n"
     ]
    }
   ],
   "source": [
    "#Add month and year columns\n",
    "loan_df['loan_year'] = pd.DatetimeIndex(loan_df['LoanOriginationDate']).year\n",
    "loan_df['loan_month'] = pd.DatetimeIndex(loan_df['LoanOriginationDate']).month"
   ]
  },
  {
   "cell_type": "markdown",
   "metadata": {},
   "source": [
    "### Test"
   ]
  },
  {
   "cell_type": "code",
   "execution_count": 18,
   "metadata": {},
   "outputs": [
    {
     "data": {
      "text/plain": [
       "0    2007\n",
       "1    2014\n",
       "2    2007\n",
       "3    2012\n",
       "4    2013\n",
       "Name: loan_year, dtype: int64"
      ]
     },
     "execution_count": 18,
     "metadata": {},
     "output_type": "execute_result"
    }
   ],
   "source": [
    "loan_df.loan_year[:5]"
   ]
  },
  {
   "cell_type": "code",
   "execution_count": 19,
   "metadata": {},
   "outputs": [
    {
     "data": {
      "text/plain": [
       "0     9\n",
       "1     3\n",
       "2     1\n",
       "3    11\n",
       "4     9\n",
       "Name: loan_month, dtype: int64"
      ]
     },
     "execution_count": 19,
     "metadata": {},
     "output_type": "execute_result"
    }
   ],
   "source": [
    "loan_df.loan_month[:5]"
   ]
  },
  {
   "cell_type": "markdown",
   "metadata": {},
   "source": [
    "### Define\n",
    "Create a column with Howmowner being Yes or No\n",
    "\n",
    "### Code"
   ]
  },
  {
   "cell_type": "code",
   "execution_count": 103,
   "metadata": {},
   "outputs": [
    {
     "name": "stderr",
     "output_type": "stream",
     "text": [
      "C:\\Users\\samso\\AppData\\Local\\Temp\\ipykernel_10880\\1568500852.py:1: SettingWithCopyWarning: \n",
      "A value is trying to be set on a copy of a slice from a DataFrame.\n",
      "Try using .loc[row_indexer,col_indexer] = value instead\n",
      "\n",
      "See the caveats in the documentation: https://pandas.pydata.org/pandas-docs/stable/user_guide/indexing.html#returning-a-view-versus-a-copy\n",
      "  loan_df[\"HomeOwner\"]= loan_df.IsBorrowerHomeowner.map(lambda IsBorrowerHomeowner:'Yes' if IsBorrowerHomeowner==True else 'No')\n"
     ]
    }
   ],
   "source": [
    "loan_df[\"HomeOwner\"]= loan_df.IsBorrowerHomeowner.map(lambda IsBorrowerHomeowner:'Yes' if IsBorrowerHomeowner==True else 'No')"
   ]
  },
  {
   "cell_type": "markdown",
   "metadata": {},
   "source": [
    "### Test"
   ]
  },
  {
   "cell_type": "code",
   "execution_count": 104,
   "metadata": {},
   "outputs": [
    {
     "data": {
      "text/plain": [
       "Yes    57478\n",
       "No     56459\n",
       "Name: HomeOwner, dtype: int64"
      ]
     },
     "execution_count": 104,
     "metadata": {},
     "output_type": "execute_result"
    }
   ],
   "source": [
    "loan_df.HomeOwner.value_counts()"
   ]
  },
  {
   "cell_type": "markdown",
   "metadata": {},
   "source": [
    "## Univariate Exploration\n",
    "\n",
    "> In this section, investigate distributions of individual variables. If\n",
    "you see unusual points or outliers, take a deeper look to clean things up\n",
    "and prepare yourself to look at relationships between variables.\n",
    "\n",
    "\n",
    "> **Rubric Tip**: The project (Parts I alone) should have at least 15 visualizations distributed over univariate, bivariate, and multivariate plots to explore many relationships in the data set.  Use reasoning to justify the flow of the exploration.\n",
    "\n",
    "\n",
    "\n",
    ">**Rubric Tip**: Use the \"Question-Visualization-Observations\" framework  throughout the exploration. This framework involves **asking a question from the data, creating a visualization to find answers, and then recording observations after each visualisation.** \n"
   ]
  },
  {
   "cell_type": "code",
   "execution_count": 50,
   "metadata": {},
   "outputs": [
    {
     "data": {
      "text/plain": [
       "Yes    56644\n",
       "No     55595\n",
       "Name: HomeOwner, dtype: int64"
      ]
     },
     "execution_count": 50,
     "metadata": {},
     "output_type": "execute_result"
    }
   ],
   "source": [
    "loan_df['HomeOwner'].value_counts()"
   ]
  },
  {
   "cell_type": "code",
   "execution_count": 56,
   "metadata": {},
   "outputs": [
    {
     "data": {
      "image/png": "[encoded data removed]",
      "text/plain": [
       "<Figure size 432x288 with 1 Axes>"
      ]
     },
     "metadata": {},
     "output_type": "display_data"
    }
   ],
   "source": [
    "# Plot the count to check whether the borrower is home owner\n",
    "type_counts = loan_df['HomeOwner'].value_counts()\n",
    "plt.pie(type_counts, labels = type_counts.index, startangle = 90,\n",
    "        counterclock = False, wedgeprops = {'width' : 0.4}, autopct='%1.1f%%');\n",
    "plt.axis('square');"
   ]
  },
  {
   "cell_type": "markdown",
   "metadata": {},
   "source": [
    "From the chart we can find out that the borrowers with Homes were more with 1% which is not very much high. "
   ]
  },
  {
   "cell_type": "markdown",
   "metadata": {},
   "source": [
    "### BorrowerRate\n",
    "The **BorrowerRate** - This is defined as the interest rate on the annual cost of a loan to  a borrower which is expressed as a percentage. "
   ]
  },
  {
   "cell_type": "code",
   "execution_count": 22,
   "metadata": {},
   "outputs": [
    {
     "data": {
      "image/png": "[encoded data removed]",
      "text/plain": [
       "<Figure size 432x288 with 1 Axes>"
      ]
     },
     "metadata": {
      "needs_background": "light"
     },
     "output_type": "display_data"
    }
   ],
   "source": [
    "def borrower_rate():\n",
    "  # define parameters\n",
    "    bins = np.arange(0, loan_df.BorrowerRate.max()+0.06, 0.01)\n",
    "    base_color = sns.color_palette()[0]\n",
    "    plt.hist(data = loan_df, x = 'BorrowerRate', bins = bins, color=base_color)\n",
    "\n",
    "borrower_rate()"
   ]
  },
  {
   "cell_type": "markdown",
   "metadata": {},
   "source": [
    "### BorrowerAPR\n",
    "The **BorrowerAPR** - This is defined as the annual cost of the loan which contains other fees like discounts and other deductions."
   ]
  },
  {
   "cell_type": "code",
   "execution_count": 23,
   "metadata": {},
   "outputs": [
    {
     "data": {
      "text/plain": [
       "count    112214.000000\n",
       "mean          0.219127\n",
       "std           0.080597\n",
       "min           0.006530\n",
       "25%           0.156290\n",
       "50%           0.210250\n",
       "75%           0.284880\n",
       "max           0.512290\n",
       "Name: BorrowerAPR, dtype: float64"
      ]
     },
     "execution_count": 23,
     "metadata": {},
     "output_type": "execute_result"
    }
   ],
   "source": [
    "loan_df.BorrowerAPR.describe()"
   ]
  },
  {
   "cell_type": "code",
   "execution_count": 24,
   "metadata": {},
   "outputs": [
    {
     "data": {
      "image/png": "[encoded data removed]",
      "text/plain": [
       "<Figure size 432x288 with 1 Axes>"
      ]
     },
     "metadata": {
      "needs_background": "light"
     },
     "output_type": "display_data"
    }
   ],
   "source": [
    "def borrower_apr():\n",
    "  # define parameters\n",
    "    bins = np.arange(0, loan_df.BorrowerAPR.max()+0.06, 0.01)\n",
    "    base_color = sns.color_palette()[0]\n",
    "    plt.hist(data = loan_df, x = 'BorrowerAPR', bins = bins, color=base_color)\n",
    "borrower_apr()"
   ]
  },
  {
   "cell_type": "markdown",
   "metadata": {},
   "source": [
    "The distribution of Borrower rate and Borrower APR looks multimodal. There is a peak centered at 0.2 and there is a very high increase between 0.35 and 0.36."
   ]
  },
  {
   "cell_type": "markdown",
   "metadata": {},
   "source": [
    "### StatedMonthlyIncome\n",
    "\n",
    "**StatedMonthlyIncome** - This is the monthly income declared by the borrower "
   ]
  },
  {
   "cell_type": "code",
   "execution_count": 25,
   "metadata": {},
   "outputs": [
    {
     "data": {
      "text/plain": [
       "count    1.122390e+05\n",
       "mean     5.602101e+03\n",
       "std      7.511639e+03\n",
       "min      0.000000e+00\n",
       "25%      3.183333e+03\n",
       "50%      4.666667e+03\n",
       "75%      6.816208e+03\n",
       "max      1.750003e+06\n",
       "Name: StatedMonthlyIncome, dtype: float64"
      ]
     },
     "execution_count": 25,
     "metadata": {},
     "output_type": "execute_result"
    }
   ],
   "source": [
    "loan_df.StatedMonthlyIncome.describe()"
   ]
  },
  {
   "cell_type": "code",
   "execution_count": 26,
   "metadata": {},
   "outputs": [
    {
     "data": {
      "image/png": "[encoded data removed]",
      "text/plain": [
       "<Figure size 864x360 with 1 Axes>"
      ]
     },
     "metadata": {
      "needs_background": "light"
     },
     "output_type": "display_data"
    }
   ],
   "source": [
    "def stated_monthly_income():\n",
    "  # define parameters\n",
    "    bins = np.arange(0, 50000, 500)\n",
    "    plt.figure(figsize=[12, 5])\n",
    "    base_color = sns.color_palette()[0]\n",
    "    plt.hist(data = loan_df, x = 'StatedMonthlyIncome', bins=bins, color=base_color);\n",
    "stated_monthly_income()"
   ]
  },
  {
   "cell_type": "markdown",
   "metadata": {},
   "source": [
    "From the graph it seems that most borrowers income is less than 4k with the mean of 5k and the monthly income is skewed to the right. let us now see the other features assosciated with borrowers with more than 10k monthly income "
   ]
  },
  {
   "cell_type": "code",
   "execution_count": 27,
   "metadata": {},
   "outputs": [
    {
     "data": {
      "text/html": [
       "<div>\n",
       "<style scoped>\n",
       "    .dataframe tbody tr th:only-of-type {\n",
       "        vertical-align: middle;\n",
       "    }\n",
       "\n",
       "    .dataframe tbody tr th {\n",
       "        vertical-align: top;\n",
       "    }\n",
       "\n",
       "    .dataframe thead th {\n",
       "        text-align: right;\n",
       "    }\n",
       "</style>\n",
       "<table border=\"1\" class=\"dataframe\">\n",
       "  <thead>\n",
       "    <tr style=\"text-align: right;\">\n",
       "      <th></th>\n",
       "      <th>ListingNumber</th>\n",
       "      <th>CreditGrade</th>\n",
       "      <th>Term</th>\n",
       "      <th>LoanStatus</th>\n",
       "      <th>ClosedDate</th>\n",
       "      <th>BorrowerAPR</th>\n",
       "      <th>BorrowerRate</th>\n",
       "      <th>BorrowerState</th>\n",
       "      <th>Occupation</th>\n",
       "      <th>EmploymentStatus</th>\n",
       "      <th>...</th>\n",
       "      <th>DebtToIncomeRatio</th>\n",
       "      <th>LoanOriginalAmount</th>\n",
       "      <th>LoanOriginationDate</th>\n",
       "      <th>MonthlyLoanPayment</th>\n",
       "      <th>Investors</th>\n",
       "      <th>IsBorrowerHomeowner</th>\n",
       "      <th>ClosedDate_test</th>\n",
       "      <th>loan_year</th>\n",
       "      <th>loan_month</th>\n",
       "      <th>HomeOwner</th>\n",
       "    </tr>\n",
       "  </thead>\n",
       "  <tbody>\n",
       "    <tr>\n",
       "      <th>8066</th>\n",
       "      <td>500651</td>\n",
       "      <td>NaN</td>\n",
       "      <td>36</td>\n",
       "      <td>Completed</td>\n",
       "      <td>2012-01-26</td>\n",
       "      <td>0.35643</td>\n",
       "      <td>0.3199</td>\n",
       "      <td>IL</td>\n",
       "      <td>Police Officer/Correction Officer</td>\n",
       "      <td>Employed</td>\n",
       "      <td>...</td>\n",
       "      <td>0.00</td>\n",
       "      <td>2000</td>\n",
       "      <td>2011-04-26</td>\n",
       "      <td>87.10</td>\n",
       "      <td>10</td>\n",
       "      <td>True</td>\n",
       "      <td>2012-01-26</td>\n",
       "      <td>2011</td>\n",
       "      <td>4</td>\n",
       "      <td>Yes</td>\n",
       "    </tr>\n",
       "    <tr>\n",
       "      <th>8870</th>\n",
       "      <td>66246</td>\n",
       "      <td>A</td>\n",
       "      <td>36</td>\n",
       "      <td>Chargedoff</td>\n",
       "      <td>2009-08-11</td>\n",
       "      <td>0.12700</td>\n",
       "      <td>0.1200</td>\n",
       "      <td>CT</td>\n",
       "      <td>Other</td>\n",
       "      <td>Not available</td>\n",
       "      <td>...</td>\n",
       "      <td>0.01</td>\n",
       "      <td>12500</td>\n",
       "      <td>2006-12-12</td>\n",
       "      <td>415.18</td>\n",
       "      <td>105</td>\n",
       "      <td>True</td>\n",
       "      <td>2009-08-11</td>\n",
       "      <td>2006</td>\n",
       "      <td>12</td>\n",
       "      <td>Yes</td>\n",
       "    </tr>\n",
       "    <tr>\n",
       "      <th>17411</th>\n",
       "      <td>501462</td>\n",
       "      <td>NaN</td>\n",
       "      <td>36</td>\n",
       "      <td>Completed</td>\n",
       "      <td>2013-04-11</td>\n",
       "      <td>0.35643</td>\n",
       "      <td>0.3199</td>\n",
       "      <td>HI</td>\n",
       "      <td>Professional</td>\n",
       "      <td>Employed</td>\n",
       "      <td>...</td>\n",
       "      <td>0.00</td>\n",
       "      <td>7500</td>\n",
       "      <td>2011-05-06</td>\n",
       "      <td>326.62</td>\n",
       "      <td>128</td>\n",
       "      <td>True</td>\n",
       "      <td>2013-04-11</td>\n",
       "      <td>2011</td>\n",
       "      <td>5</td>\n",
       "      <td>Yes</td>\n",
       "    </tr>\n",
       "    <tr>\n",
       "      <th>35218</th>\n",
       "      <td>461028</td>\n",
       "      <td>NaN</td>\n",
       "      <td>36</td>\n",
       "      <td>Completed</td>\n",
       "      <td>2013-06-11</td>\n",
       "      <td>0.07389</td>\n",
       "      <td>0.0705</td>\n",
       "      <td>VA</td>\n",
       "      <td>Attorney</td>\n",
       "      <td>Full-time</td>\n",
       "      <td>...</td>\n",
       "      <td>NaN</td>\n",
       "      <td>1000</td>\n",
       "      <td>2010-06-11</td>\n",
       "      <td>0.00</td>\n",
       "      <td>58</td>\n",
       "      <td>True</td>\n",
       "      <td>2013-06-11</td>\n",
       "      <td>2010</td>\n",
       "      <td>6</td>\n",
       "      <td>Yes</td>\n",
       "    </tr>\n",
       "    <tr>\n",
       "      <th>45028</th>\n",
       "      <td>589104</td>\n",
       "      <td>NaN</td>\n",
       "      <td>36</td>\n",
       "      <td>Current</td>\n",
       "      <td>NaT</td>\n",
       "      <td>0.33973</td>\n",
       "      <td>0.2999</td>\n",
       "      <td>KS</td>\n",
       "      <td>Nurse (RN)</td>\n",
       "      <td>Self-employed</td>\n",
       "      <td>...</td>\n",
       "      <td>NaN</td>\n",
       "      <td>4000</td>\n",
       "      <td>2012-05-17</td>\n",
       "      <td>169.78</td>\n",
       "      <td>15</td>\n",
       "      <td>False</td>\n",
       "      <td>NaT</td>\n",
       "      <td>2012</td>\n",
       "      <td>5</td>\n",
       "      <td>No</td>\n",
       "    </tr>\n",
       "    <tr>\n",
       "      <th>53014</th>\n",
       "      <td>694401</td>\n",
       "      <td>NaN</td>\n",
       "      <td>12</td>\n",
       "      <td>Completed</td>\n",
       "      <td>2014-01-23</td>\n",
       "      <td>0.25785</td>\n",
       "      <td>0.1795</td>\n",
       "      <td>CA</td>\n",
       "      <td>Other</td>\n",
       "      <td>Self-employed</td>\n",
       "      <td>...</td>\n",
       "      <td>NaN</td>\n",
       "      <td>4000</td>\n",
       "      <td>2013-01-23</td>\n",
       "      <td>366.62</td>\n",
       "      <td>93</td>\n",
       "      <td>True</td>\n",
       "      <td>2014-01-23</td>\n",
       "      <td>2013</td>\n",
       "      <td>1</td>\n",
       "      <td>Yes</td>\n",
       "    </tr>\n",
       "    <tr>\n",
       "      <th>53167</th>\n",
       "      <td>560783</td>\n",
       "      <td>NaN</td>\n",
       "      <td>36</td>\n",
       "      <td>Current</td>\n",
       "      <td>NaT</td>\n",
       "      <td>0.35797</td>\n",
       "      <td>0.3177</td>\n",
       "      <td>OR</td>\n",
       "      <td>Professional</td>\n",
       "      <td>Self-employed</td>\n",
       "      <td>...</td>\n",
       "      <td>NaN</td>\n",
       "      <td>4000</td>\n",
       "      <td>2012-02-24</td>\n",
       "      <td>173.71</td>\n",
       "      <td>2</td>\n",
       "      <td>True</td>\n",
       "      <td>NaT</td>\n",
       "      <td>2012</td>\n",
       "      <td>2</td>\n",
       "      <td>Yes</td>\n",
       "    </tr>\n",
       "    <tr>\n",
       "      <th>56867</th>\n",
       "      <td>120075</td>\n",
       "      <td>AA</td>\n",
       "      <td>36</td>\n",
       "      <td>Completed</td>\n",
       "      <td>2007-05-11</td>\n",
       "      <td>0.11144</td>\n",
       "      <td>0.1045</td>\n",
       "      <td>NC</td>\n",
       "      <td>Other</td>\n",
       "      <td>Self-employed</td>\n",
       "      <td>...</td>\n",
       "      <td>0.01</td>\n",
       "      <td>25000</td>\n",
       "      <td>2007-04-18</td>\n",
       "      <td>811.97</td>\n",
       "      <td>434</td>\n",
       "      <td>True</td>\n",
       "      <td>2007-05-11</td>\n",
       "      <td>2007</td>\n",
       "      <td>4</td>\n",
       "      <td>Yes</td>\n",
       "    </tr>\n",
       "    <tr>\n",
       "      <th>57133</th>\n",
       "      <td>499194</td>\n",
       "      <td>NaN</td>\n",
       "      <td>36</td>\n",
       "      <td>Current</td>\n",
       "      <td>NaT</td>\n",
       "      <td>0.35643</td>\n",
       "      <td>0.3199</td>\n",
       "      <td>CT</td>\n",
       "      <td>Other</td>\n",
       "      <td>Employed</td>\n",
       "      <td>...</td>\n",
       "      <td>0.00</td>\n",
       "      <td>4000</td>\n",
       "      <td>2011-04-05</td>\n",
       "      <td>174.20</td>\n",
       "      <td>72</td>\n",
       "      <td>True</td>\n",
       "      <td>NaT</td>\n",
       "      <td>2011</td>\n",
       "      <td>4</td>\n",
       "      <td>Yes</td>\n",
       "    </tr>\n",
       "    <tr>\n",
       "      <th>59298</th>\n",
       "      <td>558458</td>\n",
       "      <td>NaN</td>\n",
       "      <td>36</td>\n",
       "      <td>Current</td>\n",
       "      <td>NaT</td>\n",
       "      <td>0.24246</td>\n",
       "      <td>0.2049</td>\n",
       "      <td>CT</td>\n",
       "      <td>Other</td>\n",
       "      <td>Self-employed</td>\n",
       "      <td>...</td>\n",
       "      <td>NaN</td>\n",
       "      <td>15000</td>\n",
       "      <td>2012-03-20</td>\n",
       "      <td>561.21</td>\n",
       "      <td>204</td>\n",
       "      <td>False</td>\n",
       "      <td>NaT</td>\n",
       "      <td>2012</td>\n",
       "      <td>3</td>\n",
       "      <td>No</td>\n",
       "    </tr>\n",
       "    <tr>\n",
       "      <th>63925</th>\n",
       "      <td>25554</td>\n",
       "      <td>E</td>\n",
       "      <td>36</td>\n",
       "      <td>Completed</td>\n",
       "      <td>2009-03-03</td>\n",
       "      <td>0.25948</td>\n",
       "      <td>0.2500</td>\n",
       "      <td>NaN</td>\n",
       "      <td>Retail Management</td>\n",
       "      <td>Not available</td>\n",
       "      <td>...</td>\n",
       "      <td>0.02</td>\n",
       "      <td>2000</td>\n",
       "      <td>2006-07-24</td>\n",
       "      <td>79.52</td>\n",
       "      <td>16</td>\n",
       "      <td>True</td>\n",
       "      <td>2009-03-03</td>\n",
       "      <td>2006</td>\n",
       "      <td>7</td>\n",
       "      <td>Yes</td>\n",
       "    </tr>\n",
       "    <tr>\n",
       "      <th>78431</th>\n",
       "      <td>185978</td>\n",
       "      <td>C</td>\n",
       "      <td>36</td>\n",
       "      <td>Chargedoff</td>\n",
       "      <td>2009-06-21</td>\n",
       "      <td>0.20253</td>\n",
       "      <td>0.1952</td>\n",
       "      <td>NaN</td>\n",
       "      <td>Executive</td>\n",
       "      <td>Full-time</td>\n",
       "      <td>...</td>\n",
       "      <td>0.00</td>\n",
       "      <td>5000</td>\n",
       "      <td>2007-08-20</td>\n",
       "      <td>184.60</td>\n",
       "      <td>61</td>\n",
       "      <td>False</td>\n",
       "      <td>2009-06-21</td>\n",
       "      <td>2007</td>\n",
       "      <td>8</td>\n",
       "      <td>No</td>\n",
       "    </tr>\n",
       "    <tr>\n",
       "      <th>80075</th>\n",
       "      <td>1111360</td>\n",
       "      <td>NaN</td>\n",
       "      <td>36</td>\n",
       "      <td>Current</td>\n",
       "      <td>NaT</td>\n",
       "      <td>0.20217</td>\n",
       "      <td>0.1655</td>\n",
       "      <td>FL</td>\n",
       "      <td>Attorney</td>\n",
       "      <td>Employed</td>\n",
       "      <td>...</td>\n",
       "      <td>0.05</td>\n",
       "      <td>25000</td>\n",
       "      <td>2014-01-21</td>\n",
       "      <td>885.73</td>\n",
       "      <td>1</td>\n",
       "      <td>True</td>\n",
       "      <td>NaT</td>\n",
       "      <td>2014</td>\n",
       "      <td>1</td>\n",
       "      <td>Yes</td>\n",
       "    </tr>\n",
       "    <tr>\n",
       "      <th>82831</th>\n",
       "      <td>637992</td>\n",
       "      <td>NaN</td>\n",
       "      <td>36</td>\n",
       "      <td>Current</td>\n",
       "      <td>NaT</td>\n",
       "      <td>0.31012</td>\n",
       "      <td>0.2710</td>\n",
       "      <td>WA</td>\n",
       "      <td>Other</td>\n",
       "      <td>Self-employed</td>\n",
       "      <td>...</td>\n",
       "      <td>NaN</td>\n",
       "      <td>4000</td>\n",
       "      <td>2012-09-21</td>\n",
       "      <td>163.52</td>\n",
       "      <td>6</td>\n",
       "      <td>True</td>\n",
       "      <td>NaT</td>\n",
       "      <td>2012</td>\n",
       "      <td>9</td>\n",
       "      <td>Yes</td>\n",
       "    </tr>\n",
       "    <tr>\n",
       "      <th>83697</th>\n",
       "      <td>93861</td>\n",
       "      <td>AA</td>\n",
       "      <td>36</td>\n",
       "      <td>Completed</td>\n",
       "      <td>2007-04-03</td>\n",
       "      <td>0.08684</td>\n",
       "      <td>0.0800</td>\n",
       "      <td>NC</td>\n",
       "      <td>Other</td>\n",
       "      <td>Not available</td>\n",
       "      <td>...</td>\n",
       "      <td>0.00</td>\n",
       "      <td>5000</td>\n",
       "      <td>2007-02-15</td>\n",
       "      <td>156.68</td>\n",
       "      <td>92</td>\n",
       "      <td>True</td>\n",
       "      <td>2007-04-03</td>\n",
       "      <td>2007</td>\n",
       "      <td>2</td>\n",
       "      <td>Yes</td>\n",
       "    </tr>\n",
       "    <tr>\n",
       "      <th>111265</th>\n",
       "      <td>814064</td>\n",
       "      <td>NaN</td>\n",
       "      <td>60</td>\n",
       "      <td>Completed</td>\n",
       "      <td>2014-02-18</td>\n",
       "      <td>0.20593</td>\n",
       "      <td>0.1819</td>\n",
       "      <td>NY</td>\n",
       "      <td>Executive</td>\n",
       "      <td>Employed</td>\n",
       "      <td>...</td>\n",
       "      <td>0.03</td>\n",
       "      <td>12765</td>\n",
       "      <td>2013-06-24</td>\n",
       "      <td>325.47</td>\n",
       "      <td>114</td>\n",
       "      <td>False</td>\n",
       "      <td>2014-02-18</td>\n",
       "      <td>2013</td>\n",
       "      <td>6</td>\n",
       "      <td>No</td>\n",
       "    </tr>\n",
       "    <tr>\n",
       "      <th>113270</th>\n",
       "      <td>715718</td>\n",
       "      <td>NaN</td>\n",
       "      <td>36</td>\n",
       "      <td>Current</td>\n",
       "      <td>NaT</td>\n",
       "      <td>0.22712</td>\n",
       "      <td>0.1899</td>\n",
       "      <td>CA</td>\n",
       "      <td>Other</td>\n",
       "      <td>Employed</td>\n",
       "      <td>...</td>\n",
       "      <td>0.00</td>\n",
       "      <td>2000</td>\n",
       "      <td>2013-02-26</td>\n",
       "      <td>73.30</td>\n",
       "      <td>26</td>\n",
       "      <td>False</td>\n",
       "      <td>NaT</td>\n",
       "      <td>2013</td>\n",
       "      <td>2</td>\n",
       "      <td>No</td>\n",
       "    </tr>\n",
       "  </tbody>\n",
       "</table>\n",
       "<p>17 rows × 27 columns</p>\n",
       "</div>"
      ],
      "text/plain": [
       "        ListingNumber CreditGrade  Term  LoanStatus ClosedDate  BorrowerAPR  \\\n",
       "8066           500651         NaN    36   Completed 2012-01-26      0.35643   \n",
       "8870            66246           A    36  Chargedoff 2009-08-11      0.12700   \n",
       "17411          501462         NaN    36   Completed 2013-04-11      0.35643   \n",
       "35218          461028         NaN    36   Completed 2013-06-11      0.07389   \n",
       "45028          589104         NaN    36     Current        NaT      0.33973   \n",
       "53014          694401         NaN    12   Completed 2014-01-23      0.25785   \n",
       "53167          560783         NaN    36     Current        NaT      0.35797   \n",
       "56867          120075          AA    36   Completed 2007-05-11      0.11144   \n",
       "57133          499194         NaN    36     Current        NaT      0.35643   \n",
       "59298          558458         NaN    36     Current        NaT      0.24246   \n",
       "63925           25554           E    36   Completed 2009-03-03      0.25948   \n",
       "78431          185978           C    36  Chargedoff 2009-06-21      0.20253   \n",
       "80075         1111360         NaN    36     Current        NaT      0.20217   \n",
       "82831          637992         NaN    36     Current        NaT      0.31012   \n",
       "83697           93861          AA    36   Completed 2007-04-03      0.08684   \n",
       "111265         814064         NaN    60   Completed 2014-02-18      0.20593   \n",
       "113270         715718         NaN    36     Current        NaT      0.22712   \n",
       "\n",
       "        BorrowerRate BorrowerState                         Occupation  \\\n",
       "8066          0.3199            IL  Police Officer/Correction Officer   \n",
       "8870          0.1200            CT                              Other   \n",
       "17411         0.3199            HI                       Professional   \n",
       "35218         0.0705            VA                           Attorney   \n",
       "45028         0.2999            KS                         Nurse (RN)   \n",
       "53014         0.1795            CA                              Other   \n",
       "53167         0.3177            OR                       Professional   \n",
       "56867         0.1045            NC                              Other   \n",
       "57133         0.3199            CT                              Other   \n",
       "59298         0.2049            CT                              Other   \n",
       "63925         0.2500           NaN                  Retail Management   \n",
       "78431         0.1952           NaN                          Executive   \n",
       "80075         0.1655            FL                           Attorney   \n",
       "82831         0.2710            WA                              Other   \n",
       "83697         0.0800            NC                              Other   \n",
       "111265        0.1819            NY                          Executive   \n",
       "113270        0.1899            CA                              Other   \n",
       "\n",
       "       EmploymentStatus  ...  DebtToIncomeRatio  LoanOriginalAmount  \\\n",
       "8066           Employed  ...               0.00                2000   \n",
       "8870      Not available  ...               0.01               12500   \n",
       "17411          Employed  ...               0.00                7500   \n",
       "35218         Full-time  ...                NaN                1000   \n",
       "45028     Self-employed  ...                NaN                4000   \n",
       "53014     Self-employed  ...                NaN                4000   \n",
       "53167     Self-employed  ...                NaN                4000   \n",
       "56867     Self-employed  ...               0.01               25000   \n",
       "57133          Employed  ...               0.00                4000   \n",
       "59298     Self-employed  ...                NaN               15000   \n",
       "63925     Not available  ...               0.02                2000   \n",
       "78431         Full-time  ...               0.00                5000   \n",
       "80075          Employed  ...               0.05               25000   \n",
       "82831     Self-employed  ...                NaN                4000   \n",
       "83697     Not available  ...               0.00                5000   \n",
       "111265         Employed  ...               0.03               12765   \n",
       "113270         Employed  ...               0.00                2000   \n",
       "\n",
       "        LoanOriginationDate MonthlyLoanPayment Investors  IsBorrowerHomeowner  \\\n",
       "8066             2011-04-26              87.10        10                 True   \n",
       "8870             2006-12-12             415.18       105                 True   \n",
       "17411            2011-05-06             326.62       128                 True   \n",
       "35218            2010-06-11               0.00        58                 True   \n",
       "45028            2012-05-17             169.78        15                False   \n",
       "53014            2013-01-23             366.62        93                 True   \n",
       "53167            2012-02-24             173.71         2                 True   \n",
       "56867            2007-04-18             811.97       434                 True   \n",
       "57133            2011-04-05             174.20        72                 True   \n",
       "59298            2012-03-20             561.21       204                False   \n",
       "63925            2006-07-24              79.52        16                 True   \n",
       "78431            2007-08-20             184.60        61                False   \n",
       "80075            2014-01-21             885.73         1                 True   \n",
       "82831            2012-09-21             163.52         6                 True   \n",
       "83697            2007-02-15             156.68        92                 True   \n",
       "111265           2013-06-24             325.47       114                False   \n",
       "113270           2013-02-26              73.30        26                False   \n",
       "\n",
       "        ClosedDate_test  loan_year  loan_month HomeOwner  \n",
       "8066         2012-01-26       2011           4       Yes  \n",
       "8870         2009-08-11       2006          12       Yes  \n",
       "17411        2013-04-11       2011           5       Yes  \n",
       "35218        2013-06-11       2010           6       Yes  \n",
       "45028               NaT       2012           5        No  \n",
       "53014        2014-01-23       2013           1       Yes  \n",
       "53167               NaT       2012           2       Yes  \n",
       "56867        2007-05-11       2007           4       Yes  \n",
       "57133               NaT       2011           4       Yes  \n",
       "59298               NaT       2012           3        No  \n",
       "63925        2009-03-03       2006           7       Yes  \n",
       "78431        2009-06-21       2007           8        No  \n",
       "80075               NaT       2014           1       Yes  \n",
       "82831               NaT       2012           9       Yes  \n",
       "83697        2007-04-03       2007           2       Yes  \n",
       "111265       2014-02-18       2013           6        No  \n",
       "113270              NaT       2013           2        No  \n",
       "\n",
       "[17 rows x 27 columns]"
      ]
     },
     "execution_count": 27,
     "metadata": {},
     "output_type": "execute_result"
    }
   ],
   "source": [
    "more_than_10k = loan_df.query(\"StatedMonthlyIncome >1e5\")\n",
    "more_than_10k"
   ]
  },
  {
   "cell_type": "markdown",
   "metadata": {},
   "source": [
    "It seems that most users who indicated they earn more than 10k dollars a month are self employed and took less than 5k dollars of loan.\n"
   ]
  },
  {
   "cell_type": "markdown",
   "metadata": {},
   "source": [
    "### Debt to Income Ratio\n",
    "\n",
    "**Debt to Income Ratio** - This compares the amount the borrowers owe each month to the amount the borrower earn"
   ]
  },
  {
   "cell_type": "code",
   "execution_count": 28,
   "metadata": {},
   "outputs": [
    {
     "data": {
      "image/png": "[encoded data removed]",
      "text/plain": [
       "<Figure size 432x288 with 1 Axes>"
      ]
     },
     "metadata": {
      "needs_background": "light"
     },
     "output_type": "display_data"
    }
   ],
   "source": [
    "def debt_income_ratio():\n",
    "  # define parameters\n",
    "    bins = np.arange(0, loan_df.BorrowerAPR.max()+0.06, 0.01)\n",
    "    base_color = sns.color_palette()[0]\n",
    "    plt.hist(data = loan_df, x = 'DebtToIncomeRatio', bins = bins, color=base_color)\n",
    "debt_income_ratio()"
   ]
  },
  {
   "cell_type": "markdown",
   "metadata": {},
   "source": [
    "From the graph it shows that most borrowers debt to income ratio is between 18% t0 20%. There was a spike in debt ratio at 35%"
   ]
  },
  {
   "cell_type": "markdown",
   "metadata": {},
   "source": []
  },
  {
   "cell_type": "markdown",
   "metadata": {},
   "source": [
    "### LoanOriginationDate\n",
    "This is defined as"
   ]
  },
  {
   "cell_type": "code",
   "execution_count": 29,
   "metadata": {},
   "outputs": [
    {
     "data": {
      "image/png": "[encoded data removed]",
      "text/plain": [
       "<Figure size 1440x360 with 2 Axes>"
      ]
     },
     "metadata": {
      "needs_background": "light"
     },
     "output_type": "display_data"
    }
   ],
   "source": [
    "plt.figure(figsize = [20, 5])\n",
    "#Plot the count of loan on each month \n",
    "plt.subplot(1, 2, 1)\n",
    "base_color = sns.color_palette()[0]\n",
    "sns.countplot(data=loan_df, x='loan_month', color=base_color)\n",
    "plt.xlabel('Loan Month')\n",
    "plt.ylabel('Count')\n",
    "plt.title(\"Number of loans per month\");\n",
    "\n",
    "\n",
    "# Plot the count of loans on each year\n",
    "plt.subplot(1, 2, 2)\n",
    "base_color = sns.color_palette()[0]\n",
    "sns.countplot(data=loan_df, x='loan_year', color=base_color)\n",
    "plt.xlabel('Loan Year')\n",
    "plt.ylabel('Count')\n",
    "plt.title(\"Number of loans per year\");\n"
   ]
  },
  {
   "cell_type": "markdown",
   "metadata": {},
   "source": [
    "From the charts the vizualization loans by month there was a high number of loans in January October and December. It is also noted that the loans by year dropped off in 2009 and there was high number of loans in 2013"
   ]
  },
  {
   "cell_type": "code",
   "execution_count": null,
   "metadata": {},
   "outputs": [],
   "source": []
  },
  {
   "cell_type": "markdown",
   "metadata": {},
   "source": [
    "### Loan Status"
   ]
  },
  {
   "cell_type": "code",
   "execution_count": 30,
   "metadata": {},
   "outputs": [
    {
     "data": {
      "text/plain": [
       "Current                   54928\n",
       "Completed                 38048\n",
       "Chargedoff                11992\n",
       "Defaulted                  5018\n",
       "Past Due (1-15 days)        794\n",
       "Past Due (31-60 days)       359\n",
       "Past Due (61-90 days)       309\n",
       "Past Due (91-120 days)      304\n",
       "Past Due (16-30 days)       265\n",
       "FinalPaymentInProgress      201\n",
       "Past Due (>120 days)         16\n",
       "Cancelled                     5\n",
       "Name: LoanStatus, dtype: int64"
      ]
     },
     "execution_count": 30,
     "metadata": {},
     "output_type": "execute_result"
    }
   ],
   "source": [
    "loan_df.LoanStatus.value_counts()"
   ]
  },
  {
   "cell_type": "code",
   "execution_count": 31,
   "metadata": {},
   "outputs": [
    {
     "data": {
      "image/png": "[encoded data removed]",
      "text/plain": [
       "<Figure size 720x360 with 1 Axes>"
      ]
     },
     "metadata": {
      "needs_background": "light"
     },
     "output_type": "display_data"
    }
   ],
   "source": [
    "# Plot the count of loans on each year\n",
    "plt.figure(figsize = [10, 5])\n",
    "type_counts = loan_df['LoanStatus'].value_counts()\n",
    "order = type_counts.index\n",
    "base_color = sns.color_palette()[0]\n",
    "sns.countplot(data=loan_df, y='LoanStatus', color=base_color, order=order)\n",
    "plt.xlabel('Count')\n",
    "plt.ylabel('Loan status');\n"
   ]
  },
  {
   "cell_type": "markdown",
   "metadata": {},
   "source": [
    "From the chart it shows that most of the loans are Current and quite good number of loans have been completed or paid of fully. Only 5 loans have been cancelled and 16 loans are past due for more than 3 months\n"
   ]
  },
  {
   "cell_type": "markdown",
   "metadata": {},
   "source": [
    "### Income Range"
   ]
  },
  {
   "cell_type": "code",
   "execution_count": 32,
   "metadata": {},
   "outputs": [
    {
     "data": {
      "text/plain": [
       "$25,000-49,999    31703\n",
       "$50,000-74,999    30463\n",
       "$100,000+         17046\n",
       "$75,000-99,999    16650\n",
       "Not displayed      7741\n",
       "$1-24,999          7209\n",
       "Not employed        806\n",
       "$0                  621\n",
       "Name: IncomeRange, dtype: int64"
      ]
     },
     "execution_count": 32,
     "metadata": {},
     "output_type": "execute_result"
    }
   ],
   "source": [
    "loan_df.IncomeRange.value_counts()"
   ]
  },
  {
   "cell_type": "markdown",
   "metadata": {},
   "source": [
    "We can see that we have `Not employed` and `Not displayed` in the list of ranges. We can put this as `$0` so that we have a clean chart"
   ]
  },
  {
   "cell_type": "code",
   "execution_count": 33,
   "metadata": {},
   "outputs": [
    {
     "name": "stderr",
     "output_type": "stream",
     "text": [
      "C:\\Users\\samso\\AppData\\Local\\Temp\\ipykernel_10880\\1147241080.py:2: SettingWithCopyWarning: \n",
      "A value is trying to be set on a copy of a slice from a DataFrame\n",
      "\n",
      "See the caveats in the documentation: https://pandas.pydata.org/pandas-docs/stable/user_guide/indexing.html#returning-a-view-versus-a-copy\n",
      "  loan_df[\"IncomeRange\"].replace([\"Not employed\", \"Not displayed\"], \"$0\", inplace=True)\n"
     ]
    }
   ],
   "source": [
    "#Replace Not employed and Not displayed with $0\n",
    "loan_df[\"IncomeRange\"].replace([\"Not employed\", \"Not displayed\"], \"$0\", inplace=True)"
   ]
  },
  {
   "cell_type": "code",
   "execution_count": 34,
   "metadata": {},
   "outputs": [
    {
     "name": "stderr",
     "output_type": "stream",
     "text": [
      "C:\\Users\\samso\\AppData\\Local\\Temp\\ipykernel_10880\\3155848670.py:4: SettingWithCopyWarning: \n",
      "A value is trying to be set on a copy of a slice from a DataFrame.\n",
      "Try using .loc[row_indexer,col_indexer] = value instead\n",
      "\n",
      "See the caveats in the documentation: https://pandas.pydata.org/pandas-docs/stable/user_guide/indexing.html#returning-a-view-versus-a-copy\n",
      "  loan_df['IncomeRange'] = loan_df['IncomeRange'].astype(var)\n"
     ]
    }
   ],
   "source": [
    "# create categories\n",
    "categories = ['$100,000+', '$75,000-99,999', '$50,000-74,999', '$25,000-49,999', '$1-24,999', '$0']\n",
    "var = pd.api.types.CategoricalDtype(ordered = True, categories = categories)\n",
    "loan_df['IncomeRange'] = loan_df['IncomeRange'].astype(var)"
   ]
  },
  {
   "cell_type": "code",
   "execution_count": 35,
   "metadata": {},
   "outputs": [
    {
     "data": {
      "text/plain": [
       "$25,000-49,999    31703\n",
       "$50,000-74,999    30463\n",
       "$100,000+         17046\n",
       "$75,000-99,999    16650\n",
       "$1-24,999          7209\n",
       "$0                  621\n",
       "Name: IncomeRange, dtype: int64"
      ]
     },
     "execution_count": 35,
     "metadata": {},
     "output_type": "execute_result"
    }
   ],
   "source": [
    "loan_df.IncomeRange.value_counts()"
   ]
  },
  {
   "cell_type": "code",
   "execution_count": 36,
   "metadata": {},
   "outputs": [
    {
     "data": {
      "image/png": "[encoded data removed]",
      "text/plain": [
       "<Figure size 720x360 with 1 Axes>"
      ]
     },
     "metadata": {
      "needs_background": "light"
     },
     "output_type": "display_data"
    }
   ],
   "source": [
    "# Plot the count of loans on each year\n",
    "plt.figure(figsize = [10, 5])\n",
    "type_counts = loan_df['IncomeRange'].value_counts()\n",
    "order = type_counts.index\n",
    "base_color = sns.color_palette()[0]\n",
    "sns.countplot(data=loan_df, y='IncomeRange', color=base_color, order=order)\n",
    "plt.xlabel('Count')\n",
    "plt.ylabel('Income Range');"
   ]
  },
  {
   "cell_type": "code",
   "execution_count": null,
   "metadata": {},
   "outputs": [],
   "source": []
  },
  {
   "cell_type": "markdown",
   "metadata": {},
   "source": [
    "### Discuss the distribution(s) of your variable(s) of interest. Were there any unusual points? Did you need to perform any transformations?\n",
    "\n",
    "> The distribution of Borrower rate and Borrower APR looks multimodal. There is a peak centered at 0.2 and there is a very high increase between 0.35 and 0.36\n",
    ">  Most borrowers debt to income ratio is between 18% t0 20%.\n",
    "\n",
    "### Of the features you investigated, were there any unusual distributions? Did you perform any operations on the data to tidy, adjust, or change the form of the data? If so, why did you do this?\n",
    "\n",
    "> I noticed that there was a high number of loans in January October and December months of the year which also was noted that the loans by year dropped off from 2008 to 2009 and there was high number of loans in 2013. \n",
    "> I also noted that most of the borrowers have monthly income of less than 4k dollars where those that have more than 10k monthly icome was borrowing less than 4k dollars.\n",
    "> There is no need of further transformation of data"
   ]
  },
  {
   "cell_type": "markdown",
   "metadata": {},
   "source": [
    "## Bivariate Exploration\n",
    "\n",
    "> In this section, investigate relationships between pairs of variables in your\n",
    "data. Make sure the variables that you cover here have been introduced in some\n",
    "fashion in the previous section (univariate exploration).\n",
    "\n",
    "### Borrowers Rate Vs Period"
   ]
  },
  {
   "cell_type": "code",
   "execution_count": 37,
   "metadata": {},
   "outputs": [
    {
     "data": {
      "text/html": [
       "<div>\n",
       "<style scoped>\n",
       "    .dataframe tbody tr th:only-of-type {\n",
       "        vertical-align: middle;\n",
       "    }\n",
       "\n",
       "    .dataframe tbody tr th {\n",
       "        vertical-align: top;\n",
       "    }\n",
       "\n",
       "    .dataframe thead th {\n",
       "        text-align: right;\n",
       "    }\n",
       "</style>\n",
       "<table border=\"1\" class=\"dataframe\">\n",
       "  <thead>\n",
       "    <tr style=\"text-align: right;\">\n",
       "      <th></th>\n",
       "      <th>ListingNumber</th>\n",
       "      <th>CreditGrade</th>\n",
       "      <th>Term</th>\n",
       "      <th>LoanStatus</th>\n",
       "      <th>ClosedDate</th>\n",
       "      <th>BorrowerAPR</th>\n",
       "      <th>BorrowerRate</th>\n",
       "      <th>BorrowerState</th>\n",
       "      <th>Occupation</th>\n",
       "      <th>EmploymentStatus</th>\n",
       "      <th>...</th>\n",
       "      <th>DebtToIncomeRatio</th>\n",
       "      <th>LoanOriginalAmount</th>\n",
       "      <th>LoanOriginationDate</th>\n",
       "      <th>MonthlyLoanPayment</th>\n",
       "      <th>Investors</th>\n",
       "      <th>IsBorrowerHomeowner</th>\n",
       "      <th>ClosedDate_test</th>\n",
       "      <th>loan_year</th>\n",
       "      <th>loan_month</th>\n",
       "      <th>HomeOwner</th>\n",
       "    </tr>\n",
       "  </thead>\n",
       "  <tbody>\n",
       "    <tr>\n",
       "      <th>0</th>\n",
       "      <td>193129</td>\n",
       "      <td>C</td>\n",
       "      <td>36</td>\n",
       "      <td>Completed</td>\n",
       "      <td>2009-08-14</td>\n",
       "      <td>0.16516</td>\n",
       "      <td>0.1580</td>\n",
       "      <td>CO</td>\n",
       "      <td>Other</td>\n",
       "      <td>Self-employed</td>\n",
       "      <td>...</td>\n",
       "      <td>0.17</td>\n",
       "      <td>9425</td>\n",
       "      <td>2007-09-12</td>\n",
       "      <td>330.43</td>\n",
       "      <td>258</td>\n",
       "      <td>True</td>\n",
       "      <td>2009-08-14</td>\n",
       "      <td>2007</td>\n",
       "      <td>9</td>\n",
       "      <td>Yes</td>\n",
       "    </tr>\n",
       "    <tr>\n",
       "      <th>1</th>\n",
       "      <td>1209647</td>\n",
       "      <td>NaN</td>\n",
       "      <td>36</td>\n",
       "      <td>Current</td>\n",
       "      <td>NaT</td>\n",
       "      <td>0.12016</td>\n",
       "      <td>0.0920</td>\n",
       "      <td>CO</td>\n",
       "      <td>Professional</td>\n",
       "      <td>Employed</td>\n",
       "      <td>...</td>\n",
       "      <td>0.18</td>\n",
       "      <td>10000</td>\n",
       "      <td>2014-03-03</td>\n",
       "      <td>318.93</td>\n",
       "      <td>1</td>\n",
       "      <td>False</td>\n",
       "      <td>NaT</td>\n",
       "      <td>2014</td>\n",
       "      <td>3</td>\n",
       "      <td>No</td>\n",
       "    </tr>\n",
       "    <tr>\n",
       "      <th>2</th>\n",
       "      <td>81716</td>\n",
       "      <td>HR</td>\n",
       "      <td>36</td>\n",
       "      <td>Completed</td>\n",
       "      <td>2009-12-17</td>\n",
       "      <td>0.28269</td>\n",
       "      <td>0.2750</td>\n",
       "      <td>GA</td>\n",
       "      <td>Other</td>\n",
       "      <td>Not available</td>\n",
       "      <td>...</td>\n",
       "      <td>0.06</td>\n",
       "      <td>3001</td>\n",
       "      <td>2007-01-17</td>\n",
       "      <td>123.32</td>\n",
       "      <td>41</td>\n",
       "      <td>False</td>\n",
       "      <td>2009-12-17</td>\n",
       "      <td>2007</td>\n",
       "      <td>1</td>\n",
       "      <td>No</td>\n",
       "    </tr>\n",
       "    <tr>\n",
       "      <th>3</th>\n",
       "      <td>658116</td>\n",
       "      <td>NaN</td>\n",
       "      <td>36</td>\n",
       "      <td>Current</td>\n",
       "      <td>NaT</td>\n",
       "      <td>0.12528</td>\n",
       "      <td>0.0974</td>\n",
       "      <td>GA</td>\n",
       "      <td>Skilled Labor</td>\n",
       "      <td>Employed</td>\n",
       "      <td>...</td>\n",
       "      <td>0.15</td>\n",
       "      <td>10000</td>\n",
       "      <td>2012-11-01</td>\n",
       "      <td>321.45</td>\n",
       "      <td>158</td>\n",
       "      <td>True</td>\n",
       "      <td>NaT</td>\n",
       "      <td>2012</td>\n",
       "      <td>11</td>\n",
       "      <td>Yes</td>\n",
       "    </tr>\n",
       "    <tr>\n",
       "      <th>4</th>\n",
       "      <td>909464</td>\n",
       "      <td>NaN</td>\n",
       "      <td>36</td>\n",
       "      <td>Current</td>\n",
       "      <td>NaT</td>\n",
       "      <td>0.24614</td>\n",
       "      <td>0.2085</td>\n",
       "      <td>MN</td>\n",
       "      <td>Executive</td>\n",
       "      <td>Employed</td>\n",
       "      <td>...</td>\n",
       "      <td>0.26</td>\n",
       "      <td>15000</td>\n",
       "      <td>2013-09-20</td>\n",
       "      <td>563.97</td>\n",
       "      <td>20</td>\n",
       "      <td>True</td>\n",
       "      <td>NaT</td>\n",
       "      <td>2013</td>\n",
       "      <td>9</td>\n",
       "      <td>Yes</td>\n",
       "    </tr>\n",
       "  </tbody>\n",
       "</table>\n",
       "<p>5 rows × 27 columns</p>\n",
       "</div>"
      ],
      "text/plain": [
       "   ListingNumber CreditGrade  Term LoanStatus ClosedDate  BorrowerAPR  \\\n",
       "0         193129           C    36  Completed 2009-08-14      0.16516   \n",
       "1        1209647         NaN    36    Current        NaT      0.12016   \n",
       "2          81716          HR    36  Completed 2009-12-17      0.28269   \n",
       "3         658116         NaN    36    Current        NaT      0.12528   \n",
       "4         909464         NaN    36    Current        NaT      0.24614   \n",
       "\n",
       "   BorrowerRate BorrowerState     Occupation EmploymentStatus  ...  \\\n",
       "0        0.1580            CO          Other    Self-employed  ...   \n",
       "1        0.0920            CO   Professional         Employed  ...   \n",
       "2        0.2750            GA          Other    Not available  ...   \n",
       "3        0.0974            GA  Skilled Labor         Employed  ...   \n",
       "4        0.2085            MN      Executive         Employed  ...   \n",
       "\n",
       "   DebtToIncomeRatio  LoanOriginalAmount  LoanOriginationDate  \\\n",
       "0               0.17                9425           2007-09-12   \n",
       "1               0.18               10000           2014-03-03   \n",
       "2               0.06                3001           2007-01-17   \n",
       "3               0.15               10000           2012-11-01   \n",
       "4               0.26               15000           2013-09-20   \n",
       "\n",
       "  MonthlyLoanPayment Investors  IsBorrowerHomeowner  ClosedDate_test  \\\n",
       "0             330.43       258                 True       2009-08-14   \n",
       "1             318.93         1                False              NaT   \n",
       "2             123.32        41                False       2009-12-17   \n",
       "3             321.45       158                 True              NaT   \n",
       "4             563.97        20                 True              NaT   \n",
       "\n",
       "   loan_year  loan_month HomeOwner  \n",
       "0       2007           9       Yes  \n",
       "1       2014           3        No  \n",
       "2       2007           1        No  \n",
       "3       2012          11       Yes  \n",
       "4       2013           9       Yes  \n",
       "\n",
       "[5 rows x 27 columns]"
      ]
     },
     "execution_count": 37,
     "metadata": {},
     "output_type": "execute_result"
    }
   ],
   "source": [
    "loan_df.head()"
   ]
  },
  {
   "cell_type": "code",
   "execution_count": 38,
   "metadata": {},
   "outputs": [
    {
     "data": {
      "image/png": "[encoded data removed]",
      "text/plain": [
       "<Figure size 720x360 with 1 Axes>"
      ]
     },
     "metadata": {
      "needs_background": "light"
     },
     "output_type": "display_data"
    }
   ],
   "source": [
    "#Plot a line graph over time\n",
    "plt.figure(figsize = [10, 5])\n",
    "sns.lineplot(data=loan_df, x=\"loan_year\", y=\"BorrowerRate\")\n",
    "plt.xlabel('Year')\n",
    "plt.ylabel('Borrower Rate');"
   ]
  },
  {
   "cell_type": "markdown",
   "metadata": {},
   "source": [
    "Borrower's rate is defined as the interest rate on the annual cost of a loan to a borrower which is expressed as a percentage.\n",
    "As you can see from the chart this rate increased between 2007 an 2011 qhich is seen to reduce steadily from 2012 to 2014"
   ]
  },
  {
   "cell_type": "code",
   "execution_count": 125,
   "metadata": {},
   "outputs": [
    {
     "data": {
      "text/plain": [
       "Text(0, 0.5, 'Borrowers Rate')"
      ]
     },
     "execution_count": 125,
     "metadata": {},
     "output_type": "execute_result"
    },
    {
     "data": {
      "image/png": "[encoded data removed]",
      "text/plain": [
       "<Figure size 576x360 with 1 Axes>"
      ]
     },
     "metadata": {
      "needs_background": "light"
     },
     "output_type": "display_data"
    }
   ],
   "source": [
    "plot_data = loan_df.groupby('IncomeRange')['BorrowerRate'].mean()\n",
    "order = plot_data.index\n",
    "plot_data.index\n",
    "plot_data.plot(kind ='bar',color=base_color,figsize=(8,5), legend=False)\n",
    "plt.ylabel('Borrowers Rate')"
   ]
  },
  {
   "cell_type": "code",
   "execution_count": 39,
   "metadata": {},
   "outputs": [
    {
     "data": {
      "text/plain": [
       "<AxesSubplot:xlabel='BorrowerRate', ylabel='IncomeRange'>"
      ]
     },
     "execution_count": 39,
     "metadata": {},
     "output_type": "execute_result"
    },
    {
     "data": {
      "image/png": "[encoded data removed]",
      "text/plain": [
       "<Figure size 720x432 with 1 Axes>"
      ]
     },
     "metadata": {
      "needs_background": "light"
     },
     "output_type": "display_data"
    }
   ],
   "source": [
    "#Plot a box plot between income range and the year\n",
    "plt.figure(figsize = [10, 6])\n",
    "sns.boxplot(data = loan_df, x=\"BorrowerRate\", y=\"IncomeRange\", palette = 'Blues_r')\n"
   ]
  },
  {
   "cell_type": "code",
   "execution_count": 40,
   "metadata": {},
   "outputs": [
    {
     "data": {
      "text/plain": [
       "<AxesSubplot:xlabel='BorrowerRate', ylabel='EmploymentStatus'>"
      ]
     },
     "execution_count": 40,
     "metadata": {},
     "output_type": "execute_result"
    },
    {
     "data": {
      "image/png": "[encoded data removed]",
      "text/plain": [
       "<Figure size 720x432 with 1 Axes>"
      ]
     },
     "metadata": {
      "needs_background": "light"
     },
     "output_type": "display_data"
    }
   ],
   "source": [
    "#Plot a box plot between income range and the year\n",
    "plt.figure(figsize = [10, 6])\n",
    "sns.boxplot(data = loan_df, x=\"BorrowerRate\", y=\"EmploymentStatus\", palette = 'Blues_r')\n"
   ]
  },
  {
   "cell_type": "code",
   "execution_count": 66,
   "metadata": {},
   "outputs": [
    {
     "data": {
      "text/plain": [
       "<AxesSubplot:xlabel='loan_year', ylabel='BorrowerRate'>"
      ]
     },
     "execution_count": 66,
     "metadata": {},
     "output_type": "execute_result"
    },
    {
     "data": {
      "image/png": "[encoded data removed]",
      "text/plain": [
       "<Figure size 864x432 with 1 Axes>"
      ]
     },
     "metadata": {
      "needs_background": "light"
     },
     "output_type": "display_data"
    }
   ],
   "source": [
    "#Plot a box plot between income range and the year\n",
    "plt.figure(figsize = [12, 6])\n",
    "sns.boxplot(data = loan_df, x=\"loan_year\", y=\"BorrowerRate\", palette = 'Blues_r')\n"
   ]
  },
  {
   "cell_type": "markdown",
   "metadata": {},
   "source": [
    "We can see that borrowers in 2011 got the highest interest rate compared to borrowers in 2005 who got the lowest interest rate"
   ]
  },
  {
   "cell_type": "code",
   "execution_count": 60,
   "metadata": {},
   "outputs": [
    {
     "data": {
      "image/png": "[encoded data removed]",
      "text/plain": [
       "<Figure size 576x360 with 1 Axes>"
      ]
     },
     "metadata": {
      "needs_background": "light"
     },
     "output_type": "display_data"
    }
   ],
   "source": [
    "#Plot a graph to show Loan amount borrowed over time\n",
    "loan_df.groupby('loan_year')['LoanOriginalAmount'].mean().plot(kind='bar',color=base_color,figsize=(8,5), legend=False)\n",
    "plt.ylabel('LoanOriginalAmount')\n",
    "plt.xlabel('LoanYear');"
   ]
  },
  {
   "cell_type": "markdown",
   "metadata": {},
   "source": [
    "From the charts it shows that the amount of loans borrowered by year dropped off in 2009 and there was high number of loan amount in 2013 and increased steadily after 2009"
   ]
  },
  {
   "cell_type": "code",
   "execution_count": 76,
   "metadata": {},
   "outputs": [
    {
     "data": {
      "text/plain": [
       "Text(0, 0.5, 'LoanOriginalAmount')"
      ]
     },
     "execution_count": 76,
     "metadata": {},
     "output_type": "execute_result"
    },
    {
     "data": {
      "image/png": "[encoded data removed]",
      "text/plain": [
       "<Figure size 576x360 with 1 Axes>"
      ]
     },
     "metadata": {
      "needs_background": "light"
     },
     "output_type": "display_data"
    }
   ],
   "source": [
    "plot_data = loan_df.groupby('EmploymentStatus')['MonthlyLoanPayment'].sum()\n",
    "order = plot_data.index\n",
    "plot_data.index\n",
    "plot_data.plot(kind ='bar',color=base_color,figsize=(8,5), legend=False)\n",
    "plt.ylabel('LoanOriginalAmount')"
   ]
  },
  {
   "cell_type": "markdown",
   "metadata": {},
   "source": [
    "We can see that those who are employed borrowed more amount followed by borrowers with Full-time jobs. This can be true because of job security. Borrowers with job security have high borrowers rate"
   ]
  },
  {
   "cell_type": "code",
   "execution_count": 121,
   "metadata": {},
   "outputs": [
    {
     "data": {
      "text/plain": [
       "Text(0, 0.5, 'LoanOriginalAmount')"
      ]
     },
     "execution_count": 121,
     "metadata": {},
     "output_type": "execute_result"
    },
    {
     "data": {
      "image/png": "[encoded data removed]",
      "text/plain": [
       "<Figure size 576x360 with 1 Axes>"
      ]
     },
     "metadata": {
      "needs_background": "light"
     },
     "output_type": "display_data"
    }
   ],
   "source": [
    "plot_data = loan_df.groupby('ProsperRating')['MonthlyLoanPayment'].sum()\n",
    "order = plot_data.index\n",
    "plot_data.index\n",
    "plot_data.plot(kind ='bar',color=base_color,figsize=(8,5), legend=False)\n",
    "plt.ylabel('LoanOriginalAmount')"
   ]
  },
  {
   "cell_type": "markdown",
   "metadata": {},
   "source": [
    "We can see that the borrowers with prosper rating C borrowed more amount compared to even the borrowers with prosper rating of A. Hower the borrowes with the least prosper rating `HR` has the least total amount borrowed"
   ]
  },
  {
   "cell_type": "code",
   "execution_count": 44,
   "metadata": {},
   "outputs": [
    {
     "name": "stdout",
     "output_type": "stream",
     "text": [
      "<class 'pandas.core.frame.DataFrame'>\n",
      "Int64Index: 112239 entries, 0 to 113936\n",
      "Data columns (total 27 columns):\n",
      " #   Column                       Non-Null Count   Dtype         \n",
      "---  ------                       --------------   -----         \n",
      " 0   ListingNumber                112239 non-null  int64         \n",
      " 1   CreditGrade                  28953 non-null   object        \n",
      " 2   Term                         112239 non-null  int64         \n",
      " 3   LoanStatus                   112239 non-null  object        \n",
      " 4   ClosedDate                   55063 non-null   datetime64[ns]\n",
      " 5   BorrowerAPR                  112214 non-null  float64       \n",
      " 6   BorrowerRate                 112239 non-null  float64       \n",
      " 7   BorrowerState                106724 non-null  object        \n",
      " 8   Occupation                   108766 non-null  object        \n",
      " 9   EmploymentStatus             109984 non-null  object        \n",
      " 10  InvestmentFromFriendsCount   112239 non-null  int64         \n",
      " 11  InvestmentFromFriendsAmount  112239 non-null  float64       \n",
      " 12  LoanOriginalAmount           112239 non-null  int64         \n",
      " 13  ProsperRating                83155 non-null   object        \n",
      " 14  IncomeRange                  103692 non-null  category      \n",
      " 15  StatedMonthlyIncome          112239 non-null  float64       \n",
      " 16  LoanCurrentDaysDelinquent    112239 non-null  int64         \n",
      " 17  DebtToIncomeRatio            103846 non-null  float64       \n",
      " 18  LoanOriginalAmount           112239 non-null  int64         \n",
      " 19  LoanOriginationDate          112239 non-null  datetime64[ns]\n",
      " 20  MonthlyLoanPayment           112239 non-null  float64       \n",
      " 21  Investors                    112239 non-null  int64         \n",
      " 22  IsBorrowerHomeowner          112239 non-null  bool          \n",
      " 23  ClosedDate_test              55063 non-null   datetime64[ns]\n",
      " 24  loan_year                    112239 non-null  int64         \n",
      " 25  loan_month                   112239 non-null  int64         \n",
      " 26  HomeOwner                    112239 non-null  object        \n",
      "dtypes: bool(1), category(1), datetime64[ns](3), float64(6), int64(9), object(7)\n",
      "memory usage: 26.5+ MB\n"
     ]
    }
   ],
   "source": [
    "loan_df.info()"
   ]
  },
  {
   "cell_type": "markdown",
   "metadata": {},
   "source": [
    "### Talk about some of the relationships you observed in this part of the investigation. How did the feature(s) of interest vary with other features in the dataset?\n",
    "\n",
    "> rom the start I choose Borrowers Rate as I think it has effect on the potential amount the borrower can be entitled to. I noticed that the Borrower Rate has effect on the amount where the amount borrowed increased with higher ratings across all terms\n",
    "\n",
    "### Did you observe any interesting relationships between the other features (not the main feature(s) of interest)?\n",
    "\n",
    "> Borrowers with more monthly income and borrowers rate was borrowing more money and there fore the loan amount is positivey correlated with stated monthly income and borrowers rate."
   ]
  },
  {
   "cell_type": "markdown",
   "metadata": {},
   "source": [
    "## Multivariate Exploration\n",
    "\n",
    "### Borrowers Rate Vs Employment status over time"
   ]
  },
  {
   "cell_type": "code",
   "execution_count": 77,
   "metadata": {},
   "outputs": [
    {
     "data": {
      "image/png": "[encoded data removed]",
      "text/plain": [
       "<Figure size 1080x360 with 1 Axes>"
      ]
     },
     "metadata": {
      "needs_background": "light"
     },
     "output_type": "display_data"
    }
   ],
   "source": [
    "#Plot a line graph over time\n",
    "plt.figure(figsize = [15, 5])\n",
    "sns.lineplot(data=loan_df, x=\"loan_year\", y=\"BorrowerRate\", hue=\"EmploymentStatus\")\n",
    "plt.xlabel('Year')\n",
    "plt.ylabel('Borrower Rate')\n",
    "plt.title('Borrower rate over time grouped by employment status')\n",
    "plt.show()"
   ]
  },
  {
   "cell_type": "markdown",
   "metadata": {},
   "source": [
    "From the graph we find out that those borrowers with Full time job was getting lowest interest rate over time and those who are self employed and Not employed had high interest rate.\n",
    "Also we can see that the interest rate for those not employed increased significantly from 2012 while those employed and with full time jpob decreased signficantly at the same period.\n",
    "This can be because of job security and repayment confidence.\n",
    "\n",
    "### Borrowers rate Vs HomeOwners"
   ]
  },
  {
   "cell_type": "code",
   "execution_count": 81,
   "metadata": {},
   "outputs": [
    {
     "data": {
      "image/png": "[encoded data removed]",
      "text/plain": [
       "<Figure size 1080x360 with 1 Axes>"
      ]
     },
     "metadata": {
      "needs_background": "light"
     },
     "output_type": "display_data"
    }
   ],
   "source": [
    "#Plot borrower bar graph over time\n",
    "plt.figure(figsize = [15, 5])\n",
    "sns.barplot(data=loan_df, x=\"loan_year\", y=\"BorrowerRate\", hue=\"HomeOwner\")\n",
    "plt.xlabel('Year')\n",
    "plt.ylabel('Borrower Rate')\n",
    "plt.title('Borrower rate over time grouped by home owner')\n",
    "plt.show();"
   ]
  },
  {
   "cell_type": "markdown",
   "metadata": {},
   "source": [
    "This also shows that the intereste rate for borrowers also depended on whether the borrower had a home or not. It shows that those with homes had lower interest rate compared to those without homes"
   ]
  },
  {
   "cell_type": "code",
   "execution_count": 117,
   "metadata": {},
   "outputs": [
    {
     "data": {
      "image/png": "[encoded data removed]",
      "text/plain": [
       "<Figure size 720x432 with 1 Axes>"
      ]
     },
     "metadata": {
      "needs_background": "light"
     },
     "output_type": "display_data"
    }
   ],
   "source": [
    "#Plot a box plot between borrowers rate and the year grouped by if the borrower is a home owner\n",
    "plt.figure(figsize = [10, 6])\n",
    "sns.boxplot(data = loan_df, x=\"loan_year\", y=\"BorrowerRate\", hue=\"HomeOwner\", palette = 'Blues_r')\n",
    "plt.xlabel('Year')\n",
    "plt.ylabel('Borrower Rate')\n",
    "plt.title('Borrower rate over time grouped by home owner')\n",
    "plt.show();"
   ]
  },
  {
   "cell_type": "markdown",
   "metadata": {},
   "source": [
    "I wanted to check the relationship between Interest rate among borrowers with home and those without. From the chart we can notice that the homeowners got lower interest  rate in general throughout the years.\n",
    "We also have outliers on 2005 2006 2007 2008 and 2014. we might consider removing them if we decide to do predictive analysis"
   ]
  },
  {
   "cell_type": "code",
   "execution_count": 116,
   "metadata": {},
   "outputs": [
    {
     "name": "stderr",
     "output_type": "stream",
     "text": [
      "C:\\Users\\samso\\AppData\\Local\\Temp\\ipykernel_10880\\2740802363.py:2: SettingWithCopyWarning: \n",
      "A value is trying to be set on a copy of a slice from a DataFrame.\n",
      "Try using .loc[row_indexer,col_indexer] = value instead\n",
      "\n",
      "See the caveats in the documentation: https://pandas.pydata.org/pandas-docs/stable/user_guide/indexing.html#returning-a-view-versus-a-copy\n",
      "  loan_df['LoanOriginalAmount']=loan_df['LoanOriginalAmount'].astype(int)\n"
     ]
    }
   ],
   "source": [
    "#Plot a box plot between borrowers rate and the year grouped by if the borrower is a home owner\n",
    "loan_df['LoanOriginalAmount']=loan_df['LoanOriginalAmount'].astype(int)\n",
    "# plt.figure(figsize = [20, 6])\n",
    "# sns.boxplot(data = loan_df, x=\"ProsperRating\", y=\"LoanOriginalAmount\", hue=\"LoanStatus\", palette = 'Blues_r')\n"
   ]
  },
  {
   "cell_type": "code",
   "execution_count": 112,
   "metadata": {},
   "outputs": [
    {
     "data": {
      "text/plain": [
       "C     18345\n",
       "B     15581\n",
       "A     14551\n",
       "D     14274\n",
       "E      9795\n",
       "HR     6935\n",
       "AA     5372\n",
       "Name: ProsperRating, dtype: int64"
      ]
     },
     "execution_count": 112,
     "metadata": {},
     "output_type": "execute_result"
    }
   ],
   "source": [
    "data= loan_df[loan_df['ProsperRating'].notna()]\n",
    "data.ProsperRating.value_counts()\n",
    "#data['ProsperRating']=data['ProsperRating'].astype(int)"
   ]
  },
  {
   "cell_type": "code",
   "execution_count": 123,
   "metadata": {
    "scrolled": true
   },
   "outputs": [
    {
     "data": {
      "text/plain": [
       "Text(0.5, 1.0, 'Loan amount given by Prosper rating ')"
      ]
     },
     "execution_count": 123,
     "metadata": {},
     "output_type": "execute_result"
    },
    {
     "data": {
      "image/png": "[encoded data removed]",
      "text/plain": [
       "<Figure size 864x360 with 1 Axes>"
      ]
     },
     "metadata": {
      "needs_background": "light"
     },
     "output_type": "display_data"
    }
   ],
   "source": [
    "plt.figure(figsize = [12, 5])\n",
    "sns.barplot(data=loan_df, x=\"ProsperRating\", y=\"StatedMonthlyIncome\", hue=\"Term\")\n",
    "plt.xlabel('Prosper ratings')\n",
    "plt.title('Loan amount given by Prosper rating ')"
   ]
  },
  {
   "cell_type": "markdown",
   "metadata": {},
   "source": [
    "From the graph we can see that there is a relationship between the ratings and the amount of loan given. The better the rating the higher the loan amount. Also in most of the terms it seems that most borrowers preferred short terms where short term borrowed more than those with long term"
   ]
  },
  {
   "cell_type": "markdown",
   "metadata": {},
   "source": [
    "### Talk about some of the relationships you observed in this part of the investigation. Were there features that strengthened each other in terms of looking at your feature(s) of interest?\n",
    "\n",
    "> From the start I choose `Borrowers Rate` as I think it has effect on the potential amount the borrower can be entitled to. \n",
    "I noticed that the Borrower Rate has effect on the amount where the amount borrowed increased with higher ratings across all terms \n",
    "\n",
    "### Were there any interesting or surprising interactions between features?\n",
    "\n",
    "> From the analysis I was able to find out that those borrowers with Full time job was getting lowest interest rate over time and those who are self employed and Not employed had high interest rate. \n",
    "\n",
    "> Also those employed and those with full time job got lowest interests over time\n",
    "\n",
    "> Employed and self employed borrowed high amounts\n",
    "\n",
    "> Loan amount borrowed decred from 2007 to 2009 but increased steadily from 2009 to 2014"
   ]
  },
  {
   "cell_type": "markdown",
   "metadata": {},
   "source": [
    "## Conclusions\n",
    ">You can write a summary of the main findings and reflect on the steps taken during the data exploration.\n"
   ]
  },
  {
   "cell_type": "markdown",
   "metadata": {},
   "source": [
    "\n",
    "> Remove all Tips mentioned above, before you convert this notebook to PDF/HTML\n",
    "\n",
    "\n",
    "> At the end of your report, make sure that you export the notebook as an\n",
    "html file from the `File > Download as... > HTML or PDF` menu. Make sure you keep\n",
    "track of where the exported file goes, so you can put it in the same folder\n",
    "as this notebook for project submission. Also, make sure you remove all of\n",
    "the quote-formatted guide notes like this one before you finish your report!\n",
    "\n"
   ]
  },
  {
   "cell_type": "code",
   "execution_count": null,
   "metadata": {},
   "outputs": [],
   "source": []
  }
 ],
 "metadata": {
  "kernelspec": {
   "display_name": "Python 3 (ipykernel)",
   "language": "python",
   "name": "python3"
  },
  "language_info": {
   "codemirror_mode": {
    "name": "ipython",
    "version": 3
   },
   "file_extension": ".py",
   "mimetype": "text/x-python",
   "name": "python",
   "nbconvert_exporter": "python",
   "pygments_lexer": "ipython3",
   "version": "3.8.13"
  }
 },
 "nbformat": 4,
 "nbformat_minor": 2
}
